{
 "cells": [
  {
   "cell_type": "code",
   "execution_count": 1,
   "id": "28bf6a82-cd8b-42bd-be3f-1485bd7667f3",
   "metadata": {
    "scrolled": true
   },
   "outputs": [],
   "source": [
    "#!pip install eeglib\n",
    "import pandas as pd\n",
    "import numpy as np\n",
    "import seaborn as sns\n",
    "import matplotlib.pyplot as plt\n",
    "\n",
    "from eeglib.helpers import Helper\n",
    "from eeglib.eeg import EEG"
   ]
  },
  {
   "cell_type": "code",
   "execution_count": 2,
   "id": "85c0e829-2b34-4516-a32a-21a9686e3302",
   "metadata": {},
   "outputs": [],
   "source": [
    "def df_to_eeg_helper(df, columns, window_size, high_pass=50.0, low_pass=1.0, normalize=False):\n",
    "    data = df[columns].copy().to_numpy().transpose()\n",
    "    helper = Helper(\n",
    "        data, \n",
    "        sampleRate=200, \n",
    "        names=columns, \n",
    "        windowSize=window_size,\n",
    "        highpass=high_pass,\n",
    "        lowpass=low_pass,\n",
    "        normalize=normalize\n",
    "    )\n",
    "    return helper"
   ]
  },
  {
   "cell_type": "code",
   "execution_count": 3,
   "id": "1619d3e1-5bac-4be9-9149-6205a5a03d42",
   "metadata": {},
   "outputs": [],
   "source": [
    "eeg_df = pd.read_csv(\"train_eeg/175001942_filtered.csv\", index_col=0)"
   ]
  },
  {
   "cell_type": "code",
   "execution_count": 4,
   "id": "0de8ac4c-7ffe-4a4c-99c3-bb5a70d7dfeb",
   "metadata": {},
   "outputs": [],
   "source": [
    "helper = df_to_eeg_helper(eeg_df.iloc[4000:6000, :], list(eeg_df.columns), window_size=2000, low_pass=None, high_pass=None)"
   ]
  },
  {
   "cell_type": "code",
   "execution_count": 5,
   "id": "22dcf65c-364e-4a7c-867c-9e23798d5e1b",
   "metadata": {},
   "outputs": [],
   "source": [
    "EEG = [eeg for eeg in helper][0]"
   ]
  },
  {
   "cell_type": "code",
   "execution_count": 6,
   "id": "63c83d56-f89e-48da-bff4-fb252261fac0",
   "metadata": {},
   "outputs": [
    {
     "data": {
      "text/plain": [
       "<eeglib.eeg.EEG at 0x7f1202763970>"
      ]
     },
     "execution_count": 6,
     "metadata": {},
     "output_type": "execute_result"
    }
   ],
   "source": [
    "EEG"
   ]
  },
  {
   "cell_type": "code",
   "execution_count": 31,
   "id": "b4af7c47-ed84-4dcd-971c-f0fa444bc6e2",
   "metadata": {},
   "outputs": [],
   "source": [
    "bp = EEG.bandPower()"
   ]
  },
  {
   "cell_type": "code",
   "execution_count": 9,
   "id": "98f784e8-3f6e-4870-8bd9-9c078dda5667",
   "metadata": {
    "scrolled": true
   },
   "outputs": [
    {
     "data": {
      "text/plain": [
       "(18, 501)"
      ]
     },
     "execution_count": 9,
     "metadata": {},
     "output_type": "execute_result"
    }
   ],
   "source": [
    "EEG.PSD().shape"
   ]
  },
  {
   "cell_type": "code",
   "execution_count": 10,
   "id": "7177699a-d1dc-4b21-a9de-b888ea025e7f",
   "metadata": {},
   "outputs": [],
   "source": [
    "def get_features(eeg):\n",
    "    \n",
    "    bp = eeg.bandPower()\n",
    "    # Split band power and convert to db\n",
    "    bp_alpha = [10.0 * np.log10(ch[\"alpha\"]) for ch in bp]\n",
    "    bp_beta = [10.0 * np.log10(ch[\"beta\"]) for ch in bp]\n",
    "    bp_delta = [10.0 * np.log10(ch[\"delta\"]) for ch in bp]\n",
    "    bp_theta = [10.0 * np.log10(ch[\"theta\"]) for ch in bp]\n",
    "    psd = eeg.PSD()\n",
    "    hfd = list(eeg.HFD())\n",
    "    hjorth_mobility = list(eeg.hjorthMobility())\n",
    "    hjorth_complexity = list(eeg.hjorthComplexity())\n",
    "    dfa = list(eeg.DFA())\n",
    "    sampEn = list(eeg.sampEn())\n",
    "\n",
    "    df_as_dict = {}\n",
    "    #print(bp_alpha)\n",
    "    for chan_idx, col_name in enumerate(helper.names):\n",
    "        df_as_dict[f\"{col_name}.abs_bp_alpha\"] = [bp_alpha[chan_idx]]\n",
    "        df_as_dict[f\"{col_name}.abs_bp_beta\"] = [bp_beta[chan_idx]]\n",
    "        df_as_dict[f\"{col_name}.abs_bp_delta\"] = [bp_delta[chan_idx]]\n",
    "        df_as_dict[f\"{col_name}.abs_bp_theta\"] = [bp_theta[chan_idx]]\n",
    "        \n",
    "        total_bp = bp_alpha[chan_idx]+bp_beta[chan_idx]+bp_delta[chan_idx]+bp_theta[chan_idx]\n",
    "        df_as_dict[f\"{col_name}.total_bp\"] = [total_bp]\n",
    "        df_as_dict[f\"{col_name}.rel_bp_alpha\"] = [bp_alpha[chan_idx]/total_bp]\n",
    "        df_as_dict[f\"{col_name}.rel_bp_beta\"] = [bp_beta[chan_idx]/total_bp]\n",
    "        df_as_dict[f\"{col_name}.rel_bp_delta\"] = [bp_delta[chan_idx]/total_bp]\n",
    "        df_as_dict[f\"{col_name}.rel_bp_theta\"] = [bp_theta[chan_idx]/total_bp]\n",
    "        \n",
    "        #[delta/alpha, delta/beta, delta/theta, theta/alpha, theta/beta, alpha/beta, beta/(alpha+theta), and theta/(alpha+beta)\n",
    "        df_as_dict[f\"{col_name}.bp_delta_alpha\"] = [bp_delta[chan_idx]/bp_alpha[chan_idx]]\n",
    "        df_as_dict[f\"{col_name}.bp_delta_beta\"] = [bp_delta[chan_idx]/bp_beta[chan_idx]]\n",
    "        df_as_dict[f\"{col_name}.bp_delta_theta\"] = [bp_delta[chan_idx]/bp_theta[chan_idx]]\n",
    "        df_as_dict[f\"{col_name}.bp_theta_alpha\"] = [bp_theta[chan_idx]/bp_alpha[chan_idx]]\n",
    "        df_as_dict[f\"{col_name}.bp_theta_beta\"] = [bp_theta[chan_idx]/bp_beta[chan_idx]]\n",
    "        df_as_dict[f\"{col_name}.bp_alpha_beta\"] = [bp_alpha[chan_idx]/bp_beta[chan_idx]]\n",
    "        df_as_dict[f\"{col_name}.bp_beta_alpha+theta\"] = [bp_beta[chan_idx]/(bp_alpha[chan_idx]+bp_theta[chan_idx])]\n",
    "        df_as_dict[f\"{col_name}.bp_theta_alpha+beta\"] = [bp_theta[chan_idx]/(bp_alpha[chan_idx]+bp_beta[chan_idx])]\n",
    "        \n",
    "        df_as_dict[f\"{col_name}.hfd\"] = [hfd[chan_idx]]\n",
    "        df_as_dict[f\"{col_name}.hjorth_mobility\"] = [hjorth_mobility[chan_idx]]\n",
    "        df_as_dict[f\"{col_name}.hjorth_complexity\"] = [hjorth_complexity[chan_idx]]\n",
    "        df_as_dict[f\"{col_name}.dfa\"] = [dfa[chan_idx]]\n",
    "        df_as_dict[f\"{col_name}.samp_en\"] =[sampEn[chan_idx]]\n",
    "\n",
    "    df = pd.DataFrame.from_dict(df_as_dict)\n",
    "    return df.copy(), psd"
   ]
  },
  {
   "cell_type": "code",
   "execution_count": 11,
   "id": "714edfc7-1e5d-486d-a63c-12f067ac1aa4",
   "metadata": {},
   "outputs": [],
   "source": [
    "features, psd = get_features(EEG)"
   ]
  },
  {
   "cell_type": "code",
   "execution_count": 12,
   "id": "0bf2716f-4630-478b-b9e7-320aad663d26",
   "metadata": {},
   "outputs": [
    {
     "data": {
      "text/html": [
       "<div>\n",
       "<style scoped>\n",
       "    .dataframe tbody tr th:only-of-type {\n",
       "        vertical-align: middle;\n",
       "    }\n",
       "\n",
       "    .dataframe tbody tr th {\n",
       "        vertical-align: top;\n",
       "    }\n",
       "\n",
       "    .dataframe thead th {\n",
       "        text-align: right;\n",
       "    }\n",
       "</style>\n",
       "<table border=\"1\" class=\"dataframe\">\n",
       "  <thead>\n",
       "    <tr style=\"text-align: right;\">\n",
       "      <th></th>\n",
       "      <th>Fp1 - F7.abs_bp_alpha</th>\n",
       "      <th>Fp1 - F7.abs_bp_beta</th>\n",
       "      <th>Fp1 - F7.abs_bp_delta</th>\n",
       "      <th>Fp1 - F7.abs_bp_theta</th>\n",
       "      <th>Fp1 - F7.total_bp</th>\n",
       "      <th>Fp1 - F7.rel_bp_alpha</th>\n",
       "      <th>Fp1 - F7.rel_bp_beta</th>\n",
       "      <th>Fp1 - F7.rel_bp_delta</th>\n",
       "      <th>Fp1 - F7.rel_bp_theta</th>\n",
       "      <th>Fp1 - F7.bp_delta_alpha</th>\n",
       "      <th>...</th>\n",
       "      <th>Cz - Pz.bp_theta_alpha</th>\n",
       "      <th>Cz - Pz.bp_theta_beta</th>\n",
       "      <th>Cz - Pz.bp_alpha_beta</th>\n",
       "      <th>Cz - Pz.bp_beta_alpha+theta</th>\n",
       "      <th>Cz - Pz.bp_theta_alpha+beta</th>\n",
       "      <th>Cz - Pz.hfd</th>\n",
       "      <th>Cz - Pz.hjorth_mobility</th>\n",
       "      <th>Cz - Pz.hjorth_complexity</th>\n",
       "      <th>Cz - Pz.dfa</th>\n",
       "      <th>Cz - Pz.samp_en</th>\n",
       "    </tr>\n",
       "  </thead>\n",
       "  <tbody>\n",
       "    <tr>\n",
       "      <th>0</th>\n",
       "      <td>32.5181</td>\n",
       "      <td>37.898691</td>\n",
       "      <td>37.508281</td>\n",
       "      <td>35.562963</td>\n",
       "      <td>143.488035</td>\n",
       "      <td>0.226626</td>\n",
       "      <td>0.264124</td>\n",
       "      <td>0.261404</td>\n",
       "      <td>0.247846</td>\n",
       "      <td>1.153459</td>\n",
       "      <td>...</td>\n",
       "      <td>1.005905</td>\n",
       "      <td>0.928888</td>\n",
       "      <td>0.923435</td>\n",
       "      <td>0.539863</td>\n",
       "      <td>0.482932</td>\n",
       "      <td>2.063673</td>\n",
       "      <td>0.799555</td>\n",
       "      <td>1.181537</td>\n",
       "      <td>0.797024</td>\n",
       "      <td>1.516725</td>\n",
       "    </tr>\n",
       "  </tbody>\n",
       "</table>\n",
       "<p>1 rows × 396 columns</p>\n",
       "</div>"
      ],
      "text/plain": [
       "   Fp1 - F7.abs_bp_alpha  Fp1 - F7.abs_bp_beta  Fp1 - F7.abs_bp_delta  \\\n",
       "0                32.5181             37.898691              37.508281   \n",
       "\n",
       "   Fp1 - F7.abs_bp_theta  Fp1 - F7.total_bp  Fp1 - F7.rel_bp_alpha  \\\n",
       "0              35.562963         143.488035               0.226626   \n",
       "\n",
       "   Fp1 - F7.rel_bp_beta  Fp1 - F7.rel_bp_delta  Fp1 - F7.rel_bp_theta  \\\n",
       "0              0.264124               0.261404               0.247846   \n",
       "\n",
       "   Fp1 - F7.bp_delta_alpha  ...  Cz - Pz.bp_theta_alpha  \\\n",
       "0                 1.153459  ...                1.005905   \n",
       "\n",
       "   Cz - Pz.bp_theta_beta  Cz - Pz.bp_alpha_beta  Cz - Pz.bp_beta_alpha+theta  \\\n",
       "0               0.928888               0.923435                     0.539863   \n",
       "\n",
       "   Cz - Pz.bp_theta_alpha+beta  Cz - Pz.hfd  Cz - Pz.hjorth_mobility  \\\n",
       "0                     0.482932     2.063673                 0.799555   \n",
       "\n",
       "   Cz - Pz.hjorth_complexity  Cz - Pz.dfa  Cz - Pz.samp_en  \n",
       "0                   1.181537     0.797024         1.516725  \n",
       "\n",
       "[1 rows x 396 columns]"
      ]
     },
     "execution_count": 12,
     "metadata": {},
     "output_type": "execute_result"
    }
   ],
   "source": [
    "features"
   ]
  },
  {
   "cell_type": "code",
   "execution_count": null,
   "id": "455ab99d-01b8-4e1b-925a-b4a26e0c597a",
   "metadata": {},
   "outputs": [],
   "source": []
  }
 ],
 "metadata": {
  "kernelspec": {
   "display_name": "Python 3 (ipykernel)",
   "language": "python",
   "name": "python3"
  },
  "language_info": {
   "codemirror_mode": {
    "name": "ipython",
    "version": 3
   },
   "file_extension": ".py",
   "mimetype": "text/x-python",
   "name": "python",
   "nbconvert_exporter": "python",
   "pygments_lexer": "ipython3",
   "version": "3.10.12"
  }
 },
 "nbformat": 4,
 "nbformat_minor": 5
}
