{
 "cells": [
  {
   "cell_type": "markdown",
   "metadata": {},
   "source": [
    "## Creating train/test split with non-overlapping EEG windows (on data filtered for NaN) "
   ]
  },
  {
   "cell_type": "markdown",
   "metadata": {},
   "source": [
    "In this notebook, we filter the dataset based on the number of NaN values and overlapping EEG windows, and perform train test split stratified on expert consensus. Additionally, we make sure that the patient IDs in train and test sets are disjoint, and that the test set does not contain any row with fewer than 3 expert votes."
   ]
  },
  {
   "cell_type": "code",
   "execution_count": 1,
   "metadata": {},
   "outputs": [],
   "source": [
    "import pandas as pd\n",
    "import numpy as np\n",
    "import matplotlib.pyplot as plt"
   ]
  },
  {
   "cell_type": "code",
   "execution_count": 2,
   "metadata": {},
   "outputs": [],
   "source": [
    "df = pd.read_csv('train_with_nan_info.csv')"
   ]
  },
  {
   "cell_type": "markdown",
   "metadata": {},
   "source": [
    "Filter out rows whose corresponding 50s eeg windows or 600s spectrograms have more than 1 missing values."
   ]
  },
  {
   "cell_type": "code",
   "execution_count": 3,
   "metadata": {},
   "outputs": [],
   "source": [
    "df = df[ (df['eeg_50sec_nan_row_count'] <= 1) & (df['eeg_10sec_nan_row_count'] <= 1) & (df['spectrogram_600sec_nan_row_count'] <= 1) & (df['spectrogram_10sec_nan_row_count'] <= 1)  ]"
   ]
  },
  {
   "cell_type": "markdown",
   "metadata": {},
   "source": [
    "## Select rows with non-overlapping 10s eeg windows."
   ]
  },
  {
   "cell_type": "markdown",
   "metadata": {},
   "source": [
    "We do this to avoid over representing data points with multiple time offsets close to one another. To achieve this, we first bin the offset seconds into 10s bins, and then select the first row in every other bin, thus ensuring the offset seconds are at least 10s apart."
   ]
  },
  {
   "cell_type": "code",
   "execution_count": 4,
   "metadata": {},
   "outputs": [],
   "source": [
    "df['offset_bins'] = pd.cut(df['eeg_label_offset_seconds'], bins=[i*10 - 1 for i in range(339)])\n",
    "df['offset_bins'] = df['offset_bins'].astype('str')\n",
    "df['offset_bins'] = df['offset_bins'].apply(lambda x : (int(x.split(',')[1][1:-1]) + 1) // 10 - 1 )"
   ]
  },
  {
   "cell_type": "code",
   "execution_count": 5,
   "metadata": {},
   "outputs": [
    {
     "data": {
      "text/plain": [
       "60940"
      ]
     },
     "execution_count": 5,
     "metadata": {},
     "output_type": "execute_result"
    }
   ],
   "source": [
    "df = df.loc[df['offset_bins'] % 2 == 0]\n",
    "df.shape[0]"
   ]
  },
  {
   "cell_type": "code",
   "execution_count": 6,
   "metadata": {},
   "outputs": [
    {
     "data": {
      "text/plain": [
       "31239"
      ]
     },
     "execution_count": 6,
     "metadata": {},
     "output_type": "execute_result"
    }
   ],
   "source": [
    "df = df.groupby(['eeg_id', 'offset_bins']).agg('first').reset_index()\n",
    "df.shape[0]"
   ]
  },
  {
   "cell_type": "markdown",
   "metadata": {},
   "source": [
    "## Calculate the total number of expert votes, and normalize votes to percentages."
   ]
  },
  {
   "cell_type": "code",
   "execution_count": 7,
   "metadata": {},
   "outputs": [
    {
     "data": {
      "text/plain": [
       "['seizure_vote',\n",
       " 'lpd_vote',\n",
       " 'gpd_vote',\n",
       " 'lrda_vote',\n",
       " 'grda_vote',\n",
       " 'other_vote']"
      ]
     },
     "execution_count": 7,
     "metadata": {},
     "output_type": "execute_result"
    }
   ],
   "source": [
    "vote_cols = [c for c in df.columns if '_vote' in c]\n",
    "vote_cols"
   ]
  },
  {
   "cell_type": "code",
   "execution_count": 8,
   "metadata": {},
   "outputs": [],
   "source": [
    "\n",
    "df['total_votes'] = df[vote_cols].sum(axis=1)"
   ]
  },
  {
   "cell_type": "code",
   "execution_count": 9,
   "metadata": {},
   "outputs": [],
   "source": [
    "for c in vote_cols:\n",
    "    df[c] = df[c] / df['total_votes']"
   ]
  },
  {
   "cell_type": "markdown",
   "metadata": {},
   "source": [
    "\n",
    "We will now separate out the entries with total_votes == 1 | total_votes == 2\n"
   ]
  },
  {
   "cell_type": "code",
   "execution_count": 10,
   "metadata": {},
   "outputs": [
    {
     "data": {
      "text/plain": [
       "5404"
      ]
     },
     "execution_count": 10,
     "metadata": {},
     "output_type": "execute_result"
    }
   ],
   "source": [
    "df_low_total_votes = df[df['total_votes'] <= 2]\n",
    "df_low_total_votes.shape[0]"
   ]
  },
  {
   "cell_type": "code",
   "execution_count": 11,
   "metadata": {},
   "outputs": [
    {
     "data": {
      "text/plain": [
       "25835"
      ]
     },
     "execution_count": 11,
     "metadata": {},
     "output_type": "execute_result"
    }
   ],
   "source": [
    "df_high = df[df['total_votes'] > 2]\n",
    "df_high.shape[0]"
   ]
  },
  {
   "cell_type": "markdown",
   "metadata": {},
   "source": [
    "## Let's try this with StratifiedGroupKFold"
   ]
  },
  {
   "cell_type": "markdown",
   "metadata": {},
   "source": [
    "We use the first split of StratifiedGroupKFold in order to stratify on the expert consensus and separate patient IDs between the train and test sets."
   ]
  },
  {
   "cell_type": "code",
   "execution_count": 12,
   "metadata": {},
   "outputs": [],
   "source": [
    "from sklearn.model_selection import StratifiedGroupKFold\n",
    "\n",
    "sgkf = StratifiedGroupKFold(n_splits=10)\n",
    "for (t,v) in sgkf.split(X = df_high, y=df_high['expert_consensus'], groups=df_high['patient_id']):\n",
    "    train_idx_full = t\n",
    "    test_idx_full = v\n",
    "    break"
   ]
  },
  {
   "cell_type": "code",
   "execution_count": 13,
   "metadata": {},
   "outputs": [],
   "source": [
    "df_high_train = df_high.iloc[train_idx_full]\n",
    "df_high_test = df_high.iloc[test_idx_full]"
   ]
  },
  {
   "cell_type": "code",
   "execution_count": 14,
   "metadata": {},
   "outputs": [
    {
     "name": "stdout",
     "output_type": "stream",
     "text": [
      "(23125, 21) (2710, 21) (25835, 21)\n"
     ]
    }
   ],
   "source": [
    "print(df_high_train.shape, df_high_test.shape, df_high.shape)"
   ]
  },
  {
   "cell_type": "code",
   "execution_count": 15,
   "metadata": {},
   "outputs": [
    {
     "data": {
      "text/plain": [
       "89.51035417069868"
      ]
     },
     "execution_count": 15,
     "metadata": {},
     "output_type": "execute_result"
    }
   ],
   "source": [
    "df_high_train.shape[0] / df_high.shape[0] * 100"
   ]
  },
  {
   "cell_type": "code",
   "execution_count": 16,
   "metadata": {},
   "outputs": [],
   "source": [
    "bpids = df_high_test['patient_id'].values.tolist()"
   ]
  },
  {
   "cell_type": "code",
   "execution_count": 17,
   "metadata": {},
   "outputs": [],
   "source": [
    "df_low_total_votes = df_low_total_votes[ ~df_low_total_votes['patient_id'].isin(bpids) ]"
   ]
  },
  {
   "cell_type": "code",
   "execution_count": 18,
   "metadata": {},
   "outputs": [
    {
     "data": {
      "text/plain": [
       "set()"
      ]
     },
     "execution_count": 18,
     "metadata": {},
     "output_type": "execute_result"
    }
   ],
   "source": [
    "set(df_low_total_votes.patient_id.values).intersection(set(df_high_test.patient_id.values))"
   ]
  },
  {
   "cell_type": "markdown",
   "metadata": {},
   "source": [
    "We now add back the rows with low total vote counts to only the train set, still keeping the patient IDs in the two sets disjoint."
   ]
  },
  {
   "cell_type": "code",
   "execution_count": 19,
   "metadata": {},
   "outputs": [],
   "source": [
    "df_train = pd.concat([df_low_total_votes, df_high_train])\n",
    "df_test = df_high_test"
   ]
  },
  {
   "cell_type": "code",
   "execution_count": 20,
   "metadata": {},
   "outputs": [],
   "source": [
    "df_train.sort_index(inplace=True)"
   ]
  },
  {
   "cell_type": "markdown",
   "metadata": {},
   "source": [
    "At this point, we have our final train/test split with the NAN info. "
   ]
  },
  {
   "cell_type": "code",
   "execution_count": 21,
   "metadata": {},
   "outputs": [],
   "source": [
    "df_train.to_csv('train_final.csv')\n",
    "df_test.to_csv('test_final.csv')"
   ]
  },
  {
   "cell_type": "markdown",
   "metadata": {},
   "source": [
    "## Finally, some analysis on the train and test sets."
   ]
  },
  {
   "cell_type": "code",
   "execution_count": 22,
   "metadata": {},
   "outputs": [
    {
     "name": "stdout",
     "output_type": "stream",
     "text": [
      "expert_consensus\n",
      "Other      0.286693\n",
      "Seizure    0.213227\n",
      "LPD        0.154550\n",
      "GRDA       0.141426\n",
      "GPD        0.125740\n",
      "LRDA       0.078364\n",
      "Name: proportion, dtype: float64 \n",
      "\n",
      "expert_consensus\n",
      "Other      0.286576\n",
      "Seizure    0.213424\n",
      "LPD        0.157124\n",
      "GRDA       0.140308\n",
      "GPD        0.123776\n",
      "LRDA       0.078792\n",
      "Name: proportion, dtype: float64 \n",
      "\n",
      "expert_consensus\n",
      "Seizure    0.236531\n",
      "Other      0.233948\n",
      "GPD        0.159779\n",
      "GRDA       0.147601\n",
      "LPD        0.139852\n",
      "LRDA       0.082288\n",
      "Name: proportion, dtype: float64\n"
     ]
    }
   ],
   "source": [
    "print(df['expert_consensus'].value_counts(normalize=True), '\\n')\n",
    "print(df_train['expert_consensus'].value_counts(normalize=True), '\\n')\n",
    "print(df_test['expert_consensus'].value_counts(normalize=True))"
   ]
  },
  {
   "cell_type": "code",
   "execution_count": 23,
   "metadata": {},
   "outputs": [],
   "source": [
    "tmp1 = pd.DataFrame(df['expert_consensus'].value_counts(normalize=True))\n",
    "tmp1.reset_index(inplace=True)\n",
    "\n",
    "tmp2 = pd.DataFrame(df_train['expert_consensus'].value_counts(normalize=True))\n",
    "tmp2.reset_index(inplace=True)\n",
    "\n",
    "tmp3 = pd.DataFrame(df_test['expert_consensus'].value_counts(normalize=True))\n",
    "tmp3.reset_index(inplace=True)\n",
    "\n",
    "tmp1 = tmp1.sort_values(by='expert_consensus')\n",
    "tmp2 = tmp2.sort_values(by='expert_consensus')\n",
    "tmp3 = tmp3.sort_values(by='expert_consensus')\n",
    "\n",
    "X = list(tmp1['expert_consensus'].values)\n",
    "\n",
    "Y1 = tmp1['proportion']\n",
    "Y2 = tmp2['proportion']\n",
    "Y3 = tmp3['proportion']\n"
   ]
  },
  {
   "cell_type": "code",
   "execution_count": 24,
   "metadata": {},
   "outputs": [
    {
     "data": {
      "image/png": "[encoded data removed]",
      "text/plain": [
       "<Figure size 800x1000 with 3 Axes>"
      ]
     },
     "metadata": {},
     "output_type": "display_data"
    }
   ],
   "source": [
    "import matplotlib.pyplot as plt\n",
    "\n",
    "fig, axs = plt.subplots(3, figsize=(8,10))\n",
    "fig.subplots_adjust(hspace=0.3)\n",
    "\n",
    "axs[0].bar(X, Y1)\n",
    "axs[0].set_title('Full (train) data set')\n",
    "\n",
    "axs[1].bar(X, Y2)\n",
    "axs[1].set_title(f'Train split - {(df_train.shape[0] / df.shape[0]) * 100 : .2f}% of data')\n",
    "\n",
    "axs[2].bar(X, Y3)\n",
    "axs[2].set_title(f'Val split - {(df_test.shape[0] / df.shape[0]) * 100 : .2f}% of data')\n",
    "\n",
    "for i, p in enumerate(Y1):\n",
    "    axs[0].text(i, p, f'{p*100 : .2f}%', ha='center', va='bottom')\n",
    "\n",
    "for i, p in enumerate(Y2):\n",
    "    axs[1].text(i, p, f'{p*100 : .2f}%', ha='center', va='bottom')\n",
    "\n",
    "for i, p in enumerate(Y3):\n",
    "    axs[2].text(i, p, f'{p*100 : .2f}%', ha='center', va='bottom')\n",
    "\n",
    "plt.show()"
   ]
  },
  {
   "cell_type": "markdown",
   "metadata": {},
   "source": [
    "## Evgeniya rerunning Souparna's code to do less filtering"
   ]
  },
  {
   "cell_type": "code",
   "execution_count": 22,
   "metadata": {},
   "outputs": [],
   "source": [
    "import pandas as pd\n",
    "import numpy as np\n",
    "import matplotlib.pyplot as plt"
   ]
  },
  {
   "cell_type": "code",
   "execution_count": 17,
   "metadata": {},
   "outputs": [
    {
     "name": "stdout",
     "output_type": "stream",
     "text": [
      "number of entries with low votes\n",
      " 6676\n"
     ]
    },
    {
     "data": {
      "text/plain": [
       "100124"
      ]
     },
     "execution_count": 17,
     "metadata": {},
     "output_type": "execute_result"
    }
   ],
   "source": [
    "df2 = pd.read_csv('train_with_nan_info.csv')\n",
    "vote_cols = [c for c in df2.columns if '_vote' in c]\n",
    "df2['total_votes'] = df2[vote_cols].sum(axis=1)\n",
    "df2_low_total_votes = df2[df2['total_votes'] <= 2]\n",
    "print('number of entries with low votes\\n',df2_low_total_votes.shape[0])\n",
    "df2_high = df2[df2['total_votes'] > 2]\n",
    "df2_high.shape[0]"
   ]
  },
  {
   "cell_type": "code",
   "execution_count": 18,
   "metadata": {},
   "outputs": [],
   "source": [
    "from sklearn.model_selection import StratifiedGroupKFold\n",
    "\n",
    "sgkf = StratifiedGroupKFold(n_splits=10)\n",
    "for (t,v) in sgkf.split(X = df2_high, y=df2_high['expert_consensus'], groups=df2_high['patient_id']):\n",
    "    train_idx_full = t\n",
    "    test_idx_full = v\n",
    "    break"
   ]
  },
  {
   "cell_type": "code",
   "execution_count": 19,
   "metadata": {},
   "outputs": [
    {
     "name": "stdout",
     "output_type": "stream",
     "text": [
      "(89667, 20) (10457, 20) (100124, 20)\n",
      "89.55595062122967\n"
     ]
    }
   ],
   "source": [
    "df2_high_train = df2_high.iloc[train_idx_full]\n",
    "df2_high_test = df2_high.iloc[test_idx_full]\n",
    "print(df2_high_train.shape, df2_high_test.shape, df2_high.shape)\n",
    "print(df2_high_train.shape[0] / df2_high.shape[0] * 100)"
   ]
  },
  {
   "cell_type": "code",
   "execution_count": 16,
   "metadata": {},
   "outputs": [
    {
     "name": "stdout",
     "output_type": "stream",
     "text": [
      "number of entries with low votes added to the train set\n",
      " 6408\n",
      "making sure we dont have anything overlapping with test\n",
      " set()\n"
     ]
    }
   ],
   "source": [
    "bpids = df2_high_test['patient_id'].values.tolist()\n",
    "\n",
    "df2_low_total_votes = df2_low_total_votes[ ~df2_low_total_votes['patient_id'].isin(bpids) ]\n",
    "print('number of entries with low votes added to the train set\\n', df2_low_total_votes.shape[0])\n",
    "\n",
    "\n",
    "print('making sure we dont have anything overlapping with test\\n', set(df2_low_total_votes.patient_id.values).intersection(set(df2_high_test.patient_id.values)))\n",
    "\n",
    "\n",
    "df2_train = pd.concat([df2_low_total_votes, df2_high_train])\n",
    "df2_test = df2_high_test\n",
    "df2_train.sort_index(inplace=True)"
   ]
  },
  {
   "cell_type": "code",
   "execution_count": 7,
   "metadata": {},
   "outputs": [
    {
     "name": "stdout",
     "output_type": "stream",
     "text": [
      "full dataframe\n",
      " expert_consensus\n",
      "Seizure    0.196002\n",
      "GRDA       0.176601\n",
      "Other      0.176105\n",
      "GPD        0.156386\n",
      "LRDA       0.155805\n",
      "LPD        0.139101\n",
      "Name: proportion, dtype: float64 \n",
      "\n",
      "train dataframe\n",
      " expert_consensus\n",
      "Seizure    0.196243\n",
      "Other      0.177486\n",
      "GRDA       0.177101\n",
      "LRDA       0.156055\n",
      "GPD        0.152839\n",
      "LPD        0.140276\n",
      "Name: proportion, dtype: float64 \n",
      "\n",
      "test dataframe\n",
      " expert_consensus\n",
      "Seizure    0.196615\n",
      "GPD        0.192407\n",
      "GRDA       0.175385\n",
      "LRDA       0.156546\n",
      "Other      0.151764\n",
      "LPD        0.127283\n",
      "Name: proportion, dtype: float64\n"
     ]
    }
   ],
   "source": [
    "print('full dataframe\\n',df2['expert_consensus'].value_counts(normalize=True), '\\n')\n",
    "print('train dataframe\\n', df2_train['expert_consensus'].value_counts(normalize=True), '\\n')\n",
    "print('test dataframe\\n',df2_test['expert_consensus'].value_counts(normalize=True))"
   ]
  },
  {
   "cell_type": "code",
   "execution_count": 8,
   "metadata": {},
   "outputs": [],
   "source": [
    "df2_train.to_csv('train_final_less_filtering.csv')\n",
    "df2_test.to_csv('test_final_less_filtering.csv')"
   ]
  },
  {
   "cell_type": "code",
   "execution_count": 9,
   "metadata": {},
   "outputs": [
    {
     "data": {
      "text/html": [
       "<div>\n",
       "<style scoped>\n",
       "    .dataframe tbody tr th:only-of-type {\n",
       "        vertical-align: middle;\n",
       "    }\n",
       "\n",
       "    .dataframe tbody tr th {\n",
       "        vertical-align: top;\n",
       "    }\n",
       "\n",
       "    .dataframe thead th {\n",
       "        text-align: right;\n",
       "    }\n",
       "</style>\n",
       "<table border=\"1\" class=\"dataframe\">\n",
       "  <thead>\n",
       "    <tr style=\"text-align: right;\">\n",
       "      <th></th>\n",
       "      <th>0</th>\n",
       "      <th>1</th>\n",
       "      <th>2</th>\n",
       "      <th>3</th>\n",
       "      <th>4</th>\n",
       "      <th>5</th>\n",
       "      <th>6</th>\n",
       "      <th>7</th>\n",
       "      <th>8</th>\n",
       "      <th>9</th>\n",
       "      <th>...</th>\n",
       "      <th>4389</th>\n",
       "      <th>4397</th>\n",
       "      <th>4400</th>\n",
       "      <th>4401</th>\n",
       "      <th>4606</th>\n",
       "      <th>4701</th>\n",
       "      <th>4800</th>\n",
       "      <th>4847</th>\n",
       "      <th>4950</th>\n",
       "      <th>5197</th>\n",
       "    </tr>\n",
       "  </thead>\n",
       "  <tbody>\n",
       "    <tr>\n",
       "      <th>eeg_10sec_nan_row_count</th>\n",
       "      <td>95414.0</td>\n",
       "      <td>615.0</td>\n",
       "      <td>7.0</td>\n",
       "      <td>NaN</td>\n",
       "      <td>NaN</td>\n",
       "      <td>NaN</td>\n",
       "      <td>NaN</td>\n",
       "      <td>NaN</td>\n",
       "      <td>NaN</td>\n",
       "      <td>NaN</td>\n",
       "      <td>...</td>\n",
       "      <td>NaN</td>\n",
       "      <td>NaN</td>\n",
       "      <td>NaN</td>\n",
       "      <td>NaN</td>\n",
       "      <td>NaN</td>\n",
       "      <td>NaN</td>\n",
       "      <td>NaN</td>\n",
       "      <td>NaN</td>\n",
       "      <td>NaN</td>\n",
       "      <td>NaN</td>\n",
       "    </tr>\n",
       "    <tr>\n",
       "      <th>eeg_50sec_nan_row_count</th>\n",
       "      <td>92821.0</td>\n",
       "      <td>2864.0</td>\n",
       "      <td>160.0</td>\n",
       "      <td>9.0</td>\n",
       "      <td>NaN</td>\n",
       "      <td>NaN</td>\n",
       "      <td>NaN</td>\n",
       "      <td>NaN</td>\n",
       "      <td>NaN</td>\n",
       "      <td>NaN</td>\n",
       "      <td>...</td>\n",
       "      <td>1.0</td>\n",
       "      <td>1.0</td>\n",
       "      <td>11.0</td>\n",
       "      <td>1.0</td>\n",
       "      <td>1.0</td>\n",
       "      <td>1.0</td>\n",
       "      <td>4.0</td>\n",
       "      <td>1.0</td>\n",
       "      <td>1.0</td>\n",
       "      <td>1.0</td>\n",
       "    </tr>\n",
       "    <tr>\n",
       "      <th>spectrogram_10sec_nan_row_count</th>\n",
       "      <td>95914.0</td>\n",
       "      <td>19.0</td>\n",
       "      <td>15.0</td>\n",
       "      <td>27.0</td>\n",
       "      <td>9.0</td>\n",
       "      <td>5.0</td>\n",
       "      <td>86.0</td>\n",
       "      <td>NaN</td>\n",
       "      <td>NaN</td>\n",
       "      <td>NaN</td>\n",
       "      <td>...</td>\n",
       "      <td>NaN</td>\n",
       "      <td>NaN</td>\n",
       "      <td>NaN</td>\n",
       "      <td>NaN</td>\n",
       "      <td>NaN</td>\n",
       "      <td>NaN</td>\n",
       "      <td>NaN</td>\n",
       "      <td>NaN</td>\n",
       "      <td>NaN</td>\n",
       "      <td>NaN</td>\n",
       "    </tr>\n",
       "    <tr>\n",
       "      <th>spectrogram_600sec_nan_row_count</th>\n",
       "      <td>88893.0</td>\n",
       "      <td>38.0</td>\n",
       "      <td>63.0</td>\n",
       "      <td>50.0</td>\n",
       "      <td>43.0</td>\n",
       "      <td>50.0</td>\n",
       "      <td>68.0</td>\n",
       "      <td>54.0</td>\n",
       "      <td>46.0</td>\n",
       "      <td>85.0</td>\n",
       "      <td>...</td>\n",
       "      <td>NaN</td>\n",
       "      <td>NaN</td>\n",
       "      <td>NaN</td>\n",
       "      <td>NaN</td>\n",
       "      <td>NaN</td>\n",
       "      <td>NaN</td>\n",
       "      <td>NaN</td>\n",
       "      <td>NaN</td>\n",
       "      <td>NaN</td>\n",
       "      <td>NaN</td>\n",
       "    </tr>\n",
       "  </tbody>\n",
       "</table>\n",
       "<p>4 rows × 322 columns</p>\n",
       "</div>"
      ],
      "text/plain": [
       "                                     0       1      2     3     4     5     \\\n",
       "eeg_10sec_nan_row_count           95414.0   615.0    7.0   NaN   NaN   NaN   \n",
       "eeg_50sec_nan_row_count           92821.0  2864.0  160.0   9.0   NaN   NaN   \n",
       "spectrogram_10sec_nan_row_count   95914.0    19.0   15.0  27.0   9.0   5.0   \n",
       "spectrogram_600sec_nan_row_count  88893.0    38.0   63.0  50.0  43.0  50.0   \n",
       "\n",
       "                                  6     7     8     9     ...  4389  4397  \\\n",
       "eeg_10sec_nan_row_count            NaN   NaN   NaN   NaN  ...   NaN   NaN   \n",
       "eeg_50sec_nan_row_count            NaN   NaN   NaN   NaN  ...   1.0   1.0   \n",
       "spectrogram_10sec_nan_row_count   86.0   NaN   NaN   NaN  ...   NaN   NaN   \n",
       "spectrogram_600sec_nan_row_count  68.0  54.0  46.0  85.0  ...   NaN   NaN   \n",
       "\n",
       "                                  4400  4401  4606  4701  4800  4847  4950  \\\n",
       "eeg_10sec_nan_row_count            NaN   NaN   NaN   NaN   NaN   NaN   NaN   \n",
       "eeg_50sec_nan_row_count           11.0   1.0   1.0   1.0   4.0   1.0   1.0   \n",
       "spectrogram_10sec_nan_row_count    NaN   NaN   NaN   NaN   NaN   NaN   NaN   \n",
       "spectrogram_600sec_nan_row_count   NaN   NaN   NaN   NaN   NaN   NaN   NaN   \n",
       "\n",
       "                                  5197  \n",
       "eeg_10sec_nan_row_count            NaN  \n",
       "eeg_50sec_nan_row_count            1.0  \n",
       "spectrogram_10sec_nan_row_count    NaN  \n",
       "spectrogram_600sec_nan_row_count   NaN  \n",
       "\n",
       "[4 rows x 322 columns]"
      ]
     },
     "execution_count": 9,
     "metadata": {},
     "output_type": "execute_result"
    }
   ],
   "source": [
    "nan_counts=['eeg_50sec_nan_row_count','eeg_10sec_nan_row_count', 'spectrogram_600sec_nan_row_count', 'spectrogram_10sec_nan_row_count' ]\n",
    "df2_train[nan_counts].stack(future_stack=True).groupby(level=[1]).value_counts().unstack()"
   ]
  },
  {
   "cell_type": "code",
   "execution_count": 11,
   "metadata": {},
   "outputs": [
    {
     "data": {
      "text/plain": [
       "0.8995786516853933"
      ]
     },
     "execution_count": 11,
     "metadata": {},
     "output_type": "execute_result"
    }
   ],
   "source": [
    "df2_train.shape[0]/df2.shape[0]"
   ]
  },
  {
   "cell_type": "code",
   "execution_count": null,
   "metadata": {},
   "outputs": [],
   "source": []
  }
 ],
 "metadata": {
  "kernelspec": {
   "display_name": "base",
   "language": "python",
   "name": "python3"
  },
  "language_info": {
   "codemirror_mode": {
    "name": "ipython",
    "version": 3
   },
   "file_extension": ".py",
   "mimetype": "text/x-python",
   "name": "python",
   "nbconvert_exporter": "python",
   "pygments_lexer": "ipython3",
   "version": "3.9.18"
  }
 },
 "nbformat": 4,
 "nbformat_minor": 2
}
