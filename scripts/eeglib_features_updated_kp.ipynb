{
 "cells": [
  {
   "cell_type": "code",
   "execution_count": 1,
   "id": "28bf6a82-cd8b-42bd-be3f-1485bd7667f3",
   "metadata": {
    "scrolled": true
   },
   "outputs": [],
   "source": [
    "#!pip install eeglib\n",
    "import pandas as pd\n",
    "import numpy as np\n",
    "import seaborn as sns\n",
    "import matplotlib.pyplot as plt\n",
    "\n",
    "from eeglib.helpers import Helper\n",
    "from eeglib.eeg import EEG"
   ]
  },
  {
   "cell_type": "code",
   "execution_count": 2,
   "id": "85c0e829-2b34-4516-a32a-21a9686e3302",
   "metadata": {},
   "outputs": [],
   "source": [
    "def df_to_eeg_helper(df, columns, window_size, high_pass=50.0, low_pass=1.0, normalize=False):\n",
    "    data = df[columns].copy().to_numpy().transpose()\n",
    "    helper = Helper(\n",
    "        data, \n",
    "        sampleRate=200, \n",
    "        names=columns, \n",
    "        windowSize=window_size,\n",
    "        highpass=high_pass,\n",
    "        lowpass=low_pass,\n",
    "        normalize=normalize\n",
    "    )\n",
    "    return helper"
   ]
  },
  {
   "cell_type": "code",
   "execution_count": null,
   "id": "1619d3e1-5bac-4be9-9149-6205a5a03d42",
   "metadata": {},
   "outputs": [],
   "source": [
    "eeg_df = pd.read_csv(\"train_eeg/175001942_filtered.csv\", index_col=0)"
   ]
  },
  {
   "cell_type": "code",
   "execution_count": 4,
   "id": "0de8ac4c-7ffe-4a4c-99c3-bb5a70d7dfeb",
   "metadata": {},
   "outputs": [],
   "source": [
    "helper = df_to_eeg_helper(eeg_df.iloc[4000:6000, :], list(eeg_df.columns), window_size=2000, low_pass=None, high_pass=None)"
   ]
  },
  {
   "cell_type": "code",
   "execution_count": 5,
   "id": "22dcf65c-364e-4a7c-867c-9e23798d5e1b",
   "metadata": {},
   "outputs": [],
   "source": [
    "EEG = [eeg for eeg in helper][0]"
   ]
  },
  {
   "cell_type": "code",
   "execution_count": 6,
   "id": "63c83d56-f89e-48da-bff4-fb252261fac0",
   "metadata": {},
   "outputs": [
    {
     "data": {
      "text/plain": [
       "<eeglib.eeg.EEG at 0x7f1202763970>"
      ]
     },
     "execution_count": 6,
     "metadata": {},
     "output_type": "execute_result"
    }
   ],
   "source": [
    "EEG"
   ]
  },
  {
   "cell_type": "code",
   "execution_count": 31,
   "id": "b4af7c47-ed84-4dcd-971c-f0fa444bc6e2",
   "metadata": {},
   "outputs": [],
   "source": [
    "bp = EEG.bandPower()"
   ]
  },
  {
   "cell_type": "code",
   "execution_count": 9,
   "id": "98f784e8-3f6e-4870-8bd9-9c078dda5667",
   "metadata": {
    "scrolled": true
   },
   "outputs": [
    {
     "data": {
      "text/plain": [
       "(18, 501)"
      ]
     },
     "execution_count": 9,
     "metadata": {},
     "output_type": "execute_result"
    }
   ],
   "source": [
    "EEG.PSD().shape"
   ]
  },
  {
   "cell_type": "code",
   "execution_count": null,
   "id": "407dd416",
   "metadata": {},
   "outputs": [],
   "source": [
    "## Adapted from https://github.com/adrianaleal/eeg-preictal-identification-epilepsy/blob/main/1_extract_eeg_features/FunctionsFeatures/LinearUnivariate/spectral_edge.m\n",
    "def spectral_edge_frequency(frequency, psd):\n",
    "    ## Input:\n",
    "    ## frequency - vector with frequency at which PSD was computed by EEG.PSD()\n",
    "    ## psd - vector with PSD values from EEG.PSD()\n",
    "    \n",
    "    ## Output:\n",
    "    ## sef - Spectral edge freqeuncy\n",
    "\n",
    "    # get the indexes of the 0–40 Hz frequency band\n",
    "    indices = np.argwhere(frequency<=40)\n",
    "\n",
    "    # get the 0–40 Hz frequency and power vectors\n",
    "    frequency_band = frequency[indices]\n",
    "    power_band = psd[indices]\n",
    "\n",
    "    # get the total power in that band\n",
    "    total_spectral_power_band = sum(power_band)\n",
    "\n",
    "    # define the percentage of overall power\n",
    "    power_threshold = 50\n",
    "\n",
    "    # get the the corresponding value of power\n",
    "    spectral_power_threshold = total_spectral_power_band*(power_threshold/100)\n",
    "\n",
    "    # get the cumulative power\n",
    "    cumulative_power_band = np.cumsum(power_band)\n",
    "\n",
    "    # get the the corresponding value of frequency and power\n",
    "    ind_spectral_edge = np.argwhere(cumulative_power_band>=spectral_power_threshold)[0]\n",
    "    spectral_edge_frequency = frequency_band[ind_spectral_edge]\n",
    "\n",
    "    return spectral_edge_frequency[0]"
   ]
  },
  {
   "cell_type": "code",
   "execution_count": 39,
   "id": "7177699a-d1dc-4b21-a9de-b888ea025e7f",
   "metadata": {},
   "outputs": [],
   "source": [
    "def get_features(eeg):\n",
    "    \n",
    "    # Absolute Band Power values in db\n",
    "    bp = eeg.bandPower(bands={'alpha': (8, 12), 'beta': (13, 20), 'delta': (1, 4), 'theta': (4, 7)})\n",
    "    # Split band power and convert to db\n",
    "    bp_alpha = [10.0 * np.log10(ch[\"alpha\"]) for ch in bp]\n",
    "    bp_beta = [10.0 * np.log10(ch[\"beta\"]) for ch in bp]\n",
    "    bp_delta = [10.0 * np.log10(ch[\"delta\"]) for ch in bp]\n",
    "    bp_theta = [10.0 * np.log10(ch[\"theta\"]) for ch in bp]\n",
    "\n",
    "    # Relative Band Power values\n",
    "    bp = eeg.bandPower(bands={'alpha': (8, 12), 'beta': (13, 20), 'delta': (1, 4), 'theta': (4, 7)},\n",
    "                       normalize=True)\n",
    "    # Split band power and convert to db\n",
    "    bp_rel_alpha = [ch[\"alpha\"] for ch in bp]\n",
    "    bp_rel_beta = [ch[\"beta\"] for ch in bp]\n",
    "    bp_rel_delta = [ch[\"delta\"] for ch in bp]\n",
    "    bp_rel_theta = [ch[\"theta\"] for ch in bp]\n",
    "\n",
    "    # Spectral edge frequency\n",
    "    freq_psd = EEG.PSD(retFrequencies=True)\n",
    "    sef = []\n",
    "    # iterating over each channel\n",
    "    for i in range(freq_psd.shape[0]):\n",
    "        sef.extend(spectral_edge_frequency(freq_psd[i,0,:], freq_psd[i,1,:]))\n",
    "    sef = np.asarray(sef)\n",
    "\n",
    "    hfd = list(eeg.HFD())\n",
    "    hjorth_mobility = list(eeg.hjorthMobility())\n",
    "    hjorth_complexity = list(eeg.hjorthComplexity())\n",
    "    dfa = list(eeg.DFA())\n",
    "    sampEn = list(eeg.sampEn())\n",
    "\n",
    "    df_as_dict = {}\n",
    "    #print(bp_alpha)\n",
    "    for chan_idx, col_name in enumerate(helper.names):\n",
    "        df_as_dict[f\"{col_name}.abs_bp_alpha\"] = [bp_alpha[chan_idx]]\n",
    "        df_as_dict[f\"{col_name}.abs_bp_beta\"] = [bp_beta[chan_idx]]\n",
    "        df_as_dict[f\"{col_name}.abs_bp_delta\"] = [bp_delta[chan_idx]]\n",
    "        df_as_dict[f\"{col_name}.abs_bp_theta\"] = [bp_theta[chan_idx]]\n",
    "        \n",
    "        df_as_dict[f\"{col_name}.rel_bp_alpha\"] = [bp_rel_alpha[chan_idx]]\n",
    "        df_as_dict[f\"{col_name}.rel_bp_beta\"] = [bp_rel_beta[chan_idx]]\n",
    "        df_as_dict[f\"{col_name}.rel_bp_delta\"] = [bp_rel_delta[chan_idx]]\n",
    "        df_as_dict[f\"{col_name}.rel_bp_theta\"] = [bp_rel_theta[chan_idx]]\n",
    "        \n",
    "        #[delta/alpha, delta/beta, delta/theta, theta/alpha, theta/beta, alpha/beta, beta/(alpha+theta), and theta/(alpha+beta)\n",
    "        # Ratios calculated using relative bp because of unit conversion to db applied above to abs bp \n",
    "        df_as_dict[f\"{col_name}.bp_delta_alpha\"] = [bp_rel_delta[chan_idx]/bp_rel_alpha[chan_idx]]\n",
    "        df_as_dict[f\"{col_name}.bp_delta_beta\"] = [bp_rel_delta[chan_idx]/bp_rel_beta[chan_idx]]\n",
    "        df_as_dict[f\"{col_name}.bp_delta_theta\"] = [bp_rel_delta[chan_idx]/bp_rel_theta[chan_idx]]\n",
    "        df_as_dict[f\"{col_name}.bp_theta_alpha\"] = [bp_rel_theta[chan_idx]/bp_rel_alpha[chan_idx]]\n",
    "        df_as_dict[f\"{col_name}.bp_theta_beta\"] = [bp_rel_theta[chan_idx]/bp_rel_beta[chan_idx]]\n",
    "        df_as_dict[f\"{col_name}.bp_alpha_beta\"] = [bp_rel_alpha[chan_idx]/bp_rel_beta[chan_idx]]\n",
    "        df_as_dict[f\"{col_name}.bp_beta_alpha+theta\"] = [bp_rel_beta[chan_idx]/(bp_rel_alpha[chan_idx]+bp_rel_theta[chan_idx])]\n",
    "        df_as_dict[f\"{col_name}.bp_theta_alpha+beta\"] = [bp_rel_theta[chan_idx]/(bp_rel_alpha[chan_idx]+bp_rel_beta[chan_idx])]\n",
    "\n",
    "        df_as_dict[f\"{col_name}.spectral_edge_freq\"] = [sef[chan_idx]]\n",
    "        df_as_dict[f\"{col_name}.spectral_edge_freq\"] = [sef[chan_idx]]\n",
    "        df_as_dict[f\"{col_name}.spectral_edge_freq\"] = [sef[chan_idx]]\n",
    "        df_as_dict[f\"{col_name}.spectral_edge_freq\"] = [sef[chan_idx]]\n",
    "        \n",
    "        df_as_dict[f\"{col_name}.hfd\"] = [hfd[chan_idx]]\n",
    "        df_as_dict[f\"{col_name}.hjorth_mobility\"] = [hjorth_mobility[chan_idx]]\n",
    "        df_as_dict[f\"{col_name}.hjorth_complexity\"] = [hjorth_complexity[chan_idx]]\n",
    "        df_as_dict[f\"{col_name}.dfa\"] = [dfa[chan_idx]]\n",
    "        df_as_dict[f\"{col_name}.samp_en\"] =[sampEn[chan_idx]]\n",
    "\n",
    "    df = pd.DataFrame.from_dict(df_as_dict)\n",
    "    return df.copy()"
   ]
  },
  {
   "cell_type": "code",
   "execution_count": 40,
   "id": "714edfc7-1e5d-486d-a63c-12f067ac1aa4",
   "metadata": {},
   "outputs": [],
   "source": [
    "features = get_features(EEG)"
   ]
  },
  {
   "cell_type": "code",
   "execution_count": 41,
   "id": "0bf2716f-4630-478b-b9e7-320aad663d26",
   "metadata": {},
   "outputs": [
    {
     "data": {
      "text/html": [
       "<div>\n",
       "<style scoped>\n",
       "    .dataframe tbody tr th:only-of-type {\n",
       "        vertical-align: middle;\n",
       "    }\n",
       "\n",
       "    .dataframe tbody tr th {\n",
       "        vertical-align: top;\n",
       "    }\n",
       "\n",
       "    .dataframe thead th {\n",
       "        text-align: right;\n",
       "    }\n",
       "</style>\n",
       "<table border=\"1\" class=\"dataframe\">\n",
       "  <thead>\n",
       "    <tr style=\"text-align: right;\">\n",
       "      <th></th>\n",
       "      <th>0.abs_bp_alpha</th>\n",
       "      <th>0.abs_bp_beta</th>\n",
       "      <th>0.abs_bp_delta</th>\n",
       "      <th>0.abs_bp_theta</th>\n",
       "      <th>0.rel_bp_alpha</th>\n",
       "      <th>0.rel_bp_beta</th>\n",
       "      <th>0.rel_bp_delta</th>\n",
       "      <th>0.rel_bp_theta</th>\n",
       "      <th>0.bp_delta_alpha</th>\n",
       "      <th>0.bp_delta_beta</th>\n",
       "      <th>...</th>\n",
       "      <th>15.bp_theta_beta</th>\n",
       "      <th>15.bp_alpha_beta</th>\n",
       "      <th>15.bp_beta_alpha+theta</th>\n",
       "      <th>15.bp_theta_alpha+beta</th>\n",
       "      <th>15.spectral_edge_freq</th>\n",
       "      <th>15.hfd</th>\n",
       "      <th>15.hjorth_mobility</th>\n",
       "      <th>15.hjorth_complexity</th>\n",
       "      <th>15.dfa</th>\n",
       "      <th>15.samp_en</th>\n",
       "    </tr>\n",
       "  </thead>\n",
       "  <tbody>\n",
       "    <tr>\n",
       "      <th>0</th>\n",
       "      <td>26.847741</td>\n",
       "      <td>27.756743</td>\n",
       "      <td>33.301725</td>\n",
       "      <td>28.442888</td>\n",
       "      <td>0.058249</td>\n",
       "      <td>0.07181</td>\n",
       "      <td>0.257445</td>\n",
       "      <td>0.084101</td>\n",
       "      <td>4.419757</td>\n",
       "      <td>3.585075</td>\n",
       "      <td>...</td>\n",
       "      <td>1.425772</td>\n",
       "      <td>1.872753</td>\n",
       "      <td>0.303166</td>\n",
       "      <td>0.496309</td>\n",
       "      <td>4.4</td>\n",
       "      <td>2.069853</td>\n",
       "      <td>0.293823</td>\n",
       "      <td>2.259126</td>\n",
       "      <td>1.050634</td>\n",
       "      <td>0.928106</td>\n",
       "    </tr>\n",
       "  </tbody>\n",
       "</table>\n",
       "<p>1 rows × 352 columns</p>\n",
       "</div>"
      ],
      "text/plain": [
       "   0.abs_bp_alpha  0.abs_bp_beta  0.abs_bp_delta  0.abs_bp_theta  \\\n",
       "0       26.847741      27.756743       33.301725       28.442888   \n",
       "\n",
       "   0.rel_bp_alpha  0.rel_bp_beta  0.rel_bp_delta  0.rel_bp_theta  \\\n",
       "0        0.058249        0.07181        0.257445        0.084101   \n",
       "\n",
       "   0.bp_delta_alpha  0.bp_delta_beta  ...  15.bp_theta_beta  15.bp_alpha_beta  \\\n",
       "0          4.419757         3.585075  ...          1.425772          1.872753   \n",
       "\n",
       "   15.bp_beta_alpha+theta  15.bp_theta_alpha+beta  15.spectral_edge_freq  \\\n",
       "0                0.303166                0.496309                    4.4   \n",
       "\n",
       "     15.hfd  15.hjorth_mobility  15.hjorth_complexity    15.dfa  15.samp_en  \n",
       "0  2.069853            0.293823              2.259126  1.050634    0.928106  \n",
       "\n",
       "[1 rows x 352 columns]"
      ]
     },
     "execution_count": 41,
     "metadata": {},
     "output_type": "execute_result"
    }
   ],
   "source": [
    "features"
   ]
  }
 ],
 "metadata": {
  "kernelspec": {
   "display_name": "Python 3 (ipykernel)",
   "language": "python",
   "name": "python3"
  },
  "language_info": {
   "codemirror_mode": {
    "name": "ipython",
    "version": 3
   },
   "file_extension": ".py",
   "mimetype": "text/x-python",
   "name": "python",
   "nbconvert_exporter": "python",
   "pygments_lexer": "ipython3",
   "version": "3.11.7"
  }
 },
 "nbformat": 4,
 "nbformat_minor": 5
}
