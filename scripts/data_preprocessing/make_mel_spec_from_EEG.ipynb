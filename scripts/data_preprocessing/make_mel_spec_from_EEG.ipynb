{
 "cells": [
  {
   "cell_type": "code",
   "execution_count": null,
   "metadata": {},
   "outputs": [],
   "source": [
    "import librosa\n",
    "import pandas as pd\n",
    "import matplotlib.pyplot as plt\n",
    "import numpy as np\n",
    "\n",
    "import mne\n",
    "from mne.filter import filter_data, notch_filter"
   ]
  },
  {
   "cell_type": "markdown",
   "metadata": {},
   "source": [
    "Read in original train data set."
   ]
  },
  {
   "cell_type": "code",
   "execution_count": null,
   "metadata": {},
   "outputs": [],
   "source": [
    "df = pd.read_csv('../../data/train.csv')\n",
    "df.drop(columns=['Unnamed: 0'], inplace=True)"
   ]
  },
  {
   "cell_type": "markdown",
   "metadata": {},
   "source": [
    "The following functions make_eeg_diffs and get_filtered_eeg_diffs perform the same function as preprocessing() in eeg_preprocessing.py, except it retains the full 50 seconds of EEG data (instead of keeping only the middle 10 seconds). "
   ]
  },
  {
   "cell_type": "code",
   "execution_count": null,
   "metadata": {},
   "outputs": [],
   "source": [
    "def make_eeg_diffs(df):\n",
    "\n",
    "    # check if df has any NaNs\n",
    "    if df.isna().any(axis=None):\n",
    "        #print('NaNs detected')\n",
    "        #print('Doing forward interpolation...')\n",
    "        df.interpolate(method='linear', limit_direction='forward', axis=0, inplace=True)\n",
    "        #print('Still NaN?:', df.isna().any(axis=None))\n",
    "        #print('Doing backward interpolation...')\n",
    "        df.interpolate(method='linear', limit_direction='backward', axis=0, inplace=True)\n",
    "        #print('Still NaN?:', df.isna().any(axis=None))\n",
    "\n",
    "    raw_eeg = pd.DataFrame()\n",
    "\n",
    "    raw_eeg['Fp1 - F7'] = df['Fp1'] - df['F7']\n",
    "    raw_eeg['F7 - T3'] =  df['F7'] -  df['T3']\n",
    "    raw_eeg['T3 - T5'] =  df['T3'] -  df['T5']\n",
    "    raw_eeg['T5 - O1'] =  df['T5'] -  df['O1']\n",
    "\n",
    "    raw_eeg['Fp2 - F8'] = df['Fp2'] - df['F8']\n",
    "    raw_eeg['F8 - T4'] =  df['F8'] -  df['T4']\n",
    "    raw_eeg['T4 - T6'] =  df['T4'] -  df['T6']\n",
    "    raw_eeg['T6 - O2'] =  df['T6'] -  df['O2']\n",
    " \n",
    "    raw_eeg['Fp1 - F3'] = df['Fp1'] - df['F3']\n",
    "    raw_eeg['F3 - C3'] =  df['F3'] -  df['C3']\n",
    "    raw_eeg['C3 - P3'] =  df['C3'] -  df['P3']\n",
    "    raw_eeg['P3 - O1'] =  df['P3'] -  df['O1']\n",
    " \n",
    "    raw_eeg['Fp2 - F4'] = df['Fp2'] - df['F4']\n",
    "    raw_eeg['F4 - C4'] =  df['F4'] -  df['C4']\n",
    "    raw_eeg['C4 - P4'] =  df['C4'] -  df['P4']\n",
    "    raw_eeg['P4 - O2'] =  df['P4'] -  df['O2']\n",
    " \n",
    "    raw_eeg['Fz - Cz'] =  df['Fz'] -  df['Cz']\n",
    "    raw_eeg['Cz - Pz'] =  df['Cz'] -  df['Pz']\n",
    "\n",
    "    return raw_eeg.to_numpy(dtype=np.float64)"
   ]
  },
  {
   "cell_type": "code",
   "execution_count": null,
   "metadata": {},
   "outputs": [],
   "source": [
    "def get_filtered_eeg_diffs(eeg_df, low_cut=0.5, high_cut=40, notch_cut=60, sampling_rate=200):\n",
    "    final_columns = ['Fp1 - F7', 'F7 - T3', 'T3 - T5', 'T5 - O1',\n",
    "                 'Fp2 - F8', 'F8 - T4', 'T4 - T6', 'T6 - O2', \n",
    "                 'Fp1 - F3', 'F3 - C3', 'C3 - P3', 'P3 - O1',\n",
    "                 'Fp2 - F4', 'F4 - C4', 'C4 - P4', 'P4 - O2',\n",
    "                 'Fz - Cz', 'Cz - Pz']\n",
    "    \n",
    "    raw_eeg = make_eeg_diffs(eeg_df)\n",
    "\n",
    "    raw_eeg = notch_filter(raw_eeg, sampling_rate, notch_cut, n_jobs=-1, verbose='ERROR')\n",
    "    raw_eeg = filter_data(raw_eeg, sampling_rate, low_cut, high_cut, n_jobs=-1, verbose='ERROR')\n",
    "    raw_eeg = np.clip(raw_eeg, -500, 500)\n",
    "\n",
    "    raw_eeg = np.float32(raw_eeg)\n",
    "\n",
    "    raw_eeg_df = pd.DataFrame(raw_eeg, columns = final_columns)\n",
    "    \n",
    "    return raw_eeg_df"
   ]
  },
  {
   "cell_type": "markdown",
   "metadata": {},
   "source": [
    "The main function that uses librosa to create the Mel spectrograms from raw EEG data. "
   ]
  },
  {
   "cell_type": "code",
   "execution_count": null,
   "metadata": {},
   "outputs": [],
   "source": [
    "path_to_raw_eeg_data = '~/Harmful-Brain/hms-harmful-brain-activity-classification/train_eegs/'\n",
    "\n",
    "def spec_from_eeg(eeg_id, eeg_offset, display=False):\n",
    "    parquet_path = path_to_raw_eeg_data + str(eeg_id) + '.parquet'\n",
    "    eeg = pd.read_parquet(parquet_path)\n",
    "    mid = int(eeg_offset * 200 + 5000)\n",
    "    if mid + 5000 > eeg.shape[0]: \n",
    "        print('size error')\n",
    "        return \n",
    "\n",
    "    # extract middle 50 secs of eeg with offset  \n",
    "    eeg = eeg.iloc[mid-5000 : mid+5000]\n",
    "\n",
    "    eeg = get_filtered_eeg_diffs(eeg, low_cut=0.5, high_cut=40, notch_cut=60, sampling_rate=200)\n",
    "    \n",
    "    # drop the center channels in the eegs\n",
    "    eeg = eeg.iloc[:, :-2]\n",
    "\n",
    "    img = np.zeros((4,128,256), dtype='float32')\n",
    "    if display: plt.figure(figsize=(10,7))\n",
    "\n",
    "    # k = 0 ---> cols 0 : 3\n",
    "    # k = 1 ---> cols 4 : 7\n",
    "\n",
    "    for k in range(4):\n",
    "        for kk in range(4*k, 4*k+4):\n",
    "            x = eeg.iloc[:,kk].values\n",
    "            mel_spec = librosa.feature.melspectrogram(y=x, sr=200, hop_length=len(x)//256, \n",
    "                                                     n_fft=1024, n_mels=128, fmin=0, fmax=20, \n",
    "                                                     win_length=128)\n",
    "            width = (mel_spec.shape[1]//32) * 32\n",
    "            mel_spec_db = librosa.power_to_db(mel_spec, ref=np.max).astype(np.float32)[:,:width]\n",
    "            mel_spec_db = (mel_spec_db + 40)/40\n",
    "            \n",
    "            img[k,:,:] += mel_spec_db\n",
    "        \n",
    "        img[k,:,:] /= 4.0\n",
    "\n",
    "    NAMES = ['LL','RR','LP','RP']\n",
    "    if display:\n",
    "        for k in range(4):\n",
    "            plt.subplot(2,2,k+1)\n",
    "            plt.imshow(img[k,:,:], aspect='auto', origin='lower')\n",
    "            plt.title(f'EEG {eeg_id} - Spectrogram {NAMES[k]}')\n",
    "        plt.show()\n",
    "\n",
    "    return img"
   ]
  },
  {
   "cell_type": "markdown",
   "metadata": {},
   "source": [
    "Loop over all (EEG id, EEG offset) pairs to create the Mel spectrograms for the corresponding 50 seconds of EEG data. We save the created Mel spectrogram in order to run a CNN model on them. "
   ]
  },
  {
   "cell_type": "code",
   "execution_count": null,
   "metadata": {},
   "outputs": [],
   "source": [
    "EEG_EEGOFFSET = df[['eeg_id', 'eeg_label_offset_seconds']].apply(tuple, axis=1).to_list()\n",
    "\n",
    "for i, (eeg_id, eeg_offset) in enumerate(EEG_EEGOFFSET):\n",
    "    if i%500 == 0: \n",
    "        print(f'processing row {i}')\n",
    "    img = spec_from_eeg(int(eeg_id), eeg_offset, i%5000 == 0)\n",
    "    np.save(f'train_eegs_specs/{int(eeg_id)}_{int(eeg_offset)}',img)"
   ]
  },
  {
   "cell_type": "markdown",
   "metadata": {},
   "source": [
    "Next, we create new data frame with columns 'eeg_id' and 'eeg_label_offset_seconds', and extract statistics such as mean, min, max, and std for the middle 10 seconds of each frequency in the Mel spectrogram for each of the four regions of the brain. This creates a total of 2048 new features. "
   ]
  },
  {
   "cell_type": "code",
   "execution_count": null,
   "metadata": {},
   "outputs": [],
   "source": [
    "df_temp = pd.DataFrame()\n",
    "df_temp[['eeg_id', 'eeg_label_offset_seconds']] = df[['eeg_id', 'eeg_label_offset_seconds']]\n",
    "\n",
    "FEATURES = [f'eeg_mean_f{x}_10s' for x in range(512)]\n",
    "FEATURES += [f'eeg_min_f{x}_10s' for x in range(512)]\n",
    "FEATURES += [f'eeg_max_f{x}_10s' for x in range(512)]\n",
    "FEATURES += [f'eeg_std_f{x}_10s' for x in range(512)]\n",
    "\n",
    "data = np.zeros((len(df_temp), len(FEATURES)))\n",
    "\n",
    "for k, (id, offset) in enumerate(list(zip(df_temp['eeg_id'].tolist(), df_temp['eeg_label_offset_seconds'].tolist()))):\n",
    "    #print(f'k = {k}, id = {id}, offset = {offset}')\n",
    "    if k%1000 == 0:\n",
    "        print(f'k = {k}, id = {id}, offset = {int(offset)}')\n",
    "\n",
    "    file_name = f'train_eegs_specs/{id}_{int(offset)}.npy'\n",
    "\n",
    "    raw_eeg = np.load(file_name) # data is of shape (4,128,256), \n",
    "                                 # where 4 denotes the number of channels, \n",
    "                                 # and 256 is the time dimension\n",
    "    eeg_spec = np.zeros((512,256), dtype='float32')\n",
    "    for j in range(4): \n",
    "        eeg_spec[128*j:128*(j+1),] = raw_eeg[j,:,:]\n",
    "\n",
    "    x = np.nanmean(eeg_spec.T[100:-100,:],axis=0)\n",
    "    data[k,512*0:512*1] = x\n",
    "    x = np.nanmin(eeg_spec.T[100:-100,:],axis=0)\n",
    "    data[k,512*1:512*2] = x\n",
    "    x = np.nanmax(eeg_spec.T[100:-100,:],axis=0)\n",
    "    data[k,512*2:512*3] = x\n",
    "    x = np.nanstd(eeg_spec.T[100:-100,:],axis=0)\n",
    "    data[k,512*3:512*4] = x\n",
    "\n",
    "df_temp[FEATURES] = data"
   ]
  },
  {
   "cell_type": "code",
   "execution_count": null,
   "metadata": {},
   "outputs": [],
   "source": [
    "df_temp.to_parquet('train_features_from_eeg_spec.parquet')"
   ]
  }
 ],
 "metadata": {
  "kernelspec": {
   "display_name": "base",
   "language": "python",
   "name": "python3"
  },
  "language_info": {
   "codemirror_mode": {
    "name": "ipython",
    "version": 3
   },
   "file_extension": ".py",
   "mimetype": "text/x-python",
   "name": "python",
   "nbconvert_exporter": "python",
   "pygments_lexer": "ipython3",
   "version": "3.10.13"
  }
 },
 "nbformat": 4,
 "nbformat_minor": 2
}
