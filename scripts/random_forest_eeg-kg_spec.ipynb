{
 "cells": [
  {
   "cell_type": "code",
   "execution_count": 1,
   "id": "536e1f29-6b91-4497-8dca-1f631e18cd99",
   "metadata": {},
   "outputs": [],
   "source": [
    "import pandas as pd\n",
    "import matplotlib.pyplot as plt\n",
    "import numpy as np"
   ]
  },
  {
   "cell_type": "code",
   "execution_count": 2,
   "id": "0b2f94b2-f332-4d95-8a29-226c212a4c7d",
   "metadata": {},
   "outputs": [],
   "source": [
    "from sklearn.model_selection import StratifiedGroupKFold\n",
    "from sklearn.pipeline import Pipeline\n",
    "from sklearn.preprocessing import StandardScaler"
   ]
  },
  {
   "cell_type": "code",
   "execution_count": 3,
   "id": "5b0b8045-a84a-46a9-b9b3-43fe225163d7",
   "metadata": {},
   "outputs": [],
   "source": [
    "from sklearn.ensemble import RandomForestClassifier\n",
    "from sklearn.metrics import log_loss\n",
    "from sklearn.metrics import accuracy_score"
   ]
  },
  {
   "cell_type": "code",
   "execution_count": 4,
   "id": "90220b9b-7ed9-43fe-8e20-8fd17a89bc5f",
   "metadata": {},
   "outputs": [],
   "source": [
    "n_splits = 5\n",
    "kfold = StratifiedGroupKFold(n_splits, random_state=7, shuffle=True)"
   ]
  },
  {
   "cell_type": "code",
   "execution_count": 5,
   "id": "feac7f0c-e6cc-471d-a9c5-9aaf20ac45c0",
   "metadata": {},
   "outputs": [
    {
     "data": {
      "text/html": [
       "<div>\n",
       "<style scoped>\n",
       "    .dataframe tbody tr th:only-of-type {\n",
       "        vertical-align: middle;\n",
       "    }\n",
       "\n",
       "    .dataframe tbody tr th {\n",
       "        vertical-align: top;\n",
       "    }\n",
       "\n",
       "    .dataframe thead th {\n",
       "        text-align: right;\n",
       "    }\n",
       "</style>\n",
       "<table border=\"1\" class=\"dataframe\">\n",
       "  <thead>\n",
       "    <tr style=\"text-align: right;\">\n",
       "      <th></th>\n",
       "      <th>eeg_id</th>\n",
       "      <th>offset_bins</th>\n",
       "      <th>eeg_sub_id</th>\n",
       "      <th>eeg_label_offset_seconds</th>\n",
       "      <th>spectrogram_id</th>\n",
       "      <th>spectrogram_sub_id</th>\n",
       "      <th>spectrogram_label_offset_seconds</th>\n",
       "      <th>label_id</th>\n",
       "      <th>patient_id</th>\n",
       "      <th>expert_consensus</th>\n",
       "      <th>...</th>\n",
       "      <th>RP_18.55_min_20s</th>\n",
       "      <th>RP_18.75_min_20s</th>\n",
       "      <th>RP_18.95_min_20s</th>\n",
       "      <th>RP_19.14_min_20s</th>\n",
       "      <th>RP_19.34_min_20s</th>\n",
       "      <th>RP_19.53_min_20s</th>\n",
       "      <th>RP_19.73_min_20s</th>\n",
       "      <th>RP_19.92_min_20s</th>\n",
       "      <th>expert_consensus_to_num</th>\n",
       "      <th>max_index_vote_cols</th>\n",
       "    </tr>\n",
       "  </thead>\n",
       "  <tbody>\n",
       "    <tr>\n",
       "      <th>0</th>\n",
       "      <td>568657</td>\n",
       "      <td>0</td>\n",
       "      <td>0</td>\n",
       "      <td>0.0</td>\n",
       "      <td>789577333</td>\n",
       "      <td>0</td>\n",
       "      <td>0.0</td>\n",
       "      <td>1825637311</td>\n",
       "      <td>20654</td>\n",
       "      <td>Other</td>\n",
       "      <td>...</td>\n",
       "      <td>1.932</td>\n",
       "      <td>2.129</td>\n",
       "      <td>2.472</td>\n",
       "      <td>2.743</td>\n",
       "      <td>2.827</td>\n",
       "      <td>2.875</td>\n",
       "      <td>2.877</td>\n",
       "      <td>2.708</td>\n",
       "      <td>5</td>\n",
       "      <td>5</td>\n",
       "    </tr>\n",
       "    <tr>\n",
       "      <th>1</th>\n",
       "      <td>642382</td>\n",
       "      <td>0</td>\n",
       "      <td>0</td>\n",
       "      <td>0.0</td>\n",
       "      <td>14960202</td>\n",
       "      <td>12</td>\n",
       "      <td>1008.0</td>\n",
       "      <td>3254468733</td>\n",
       "      <td>5955</td>\n",
       "      <td>Other</td>\n",
       "      <td>...</td>\n",
       "      <td>0.121</td>\n",
       "      <td>0.124</td>\n",
       "      <td>0.119</td>\n",
       "      <td>0.114</td>\n",
       "      <td>0.093</td>\n",
       "      <td>0.101</td>\n",
       "      <td>0.099</td>\n",
       "      <td>0.092</td>\n",
       "      <td>5</td>\n",
       "      <td>5</td>\n",
       "    </tr>\n",
       "    <tr>\n",
       "      <th>2</th>\n",
       "      <td>642382</td>\n",
       "      <td>2</td>\n",
       "      <td>1</td>\n",
       "      <td>24.0</td>\n",
       "      <td>14960202</td>\n",
       "      <td>13</td>\n",
       "      <td>1032.0</td>\n",
       "      <td>2552357208</td>\n",
       "      <td>5955</td>\n",
       "      <td>Other</td>\n",
       "      <td>...</td>\n",
       "      <td>0.100</td>\n",
       "      <td>0.096</td>\n",
       "      <td>0.094</td>\n",
       "      <td>0.133</td>\n",
       "      <td>0.111</td>\n",
       "      <td>0.120</td>\n",
       "      <td>0.111</td>\n",
       "      <td>0.078</td>\n",
       "      <td>5</td>\n",
       "      <td>5</td>\n",
       "    </tr>\n",
       "    <tr>\n",
       "      <th>3</th>\n",
       "      <td>751790</td>\n",
       "      <td>0</td>\n",
       "      <td>0</td>\n",
       "      <td>0.0</td>\n",
       "      <td>618728447</td>\n",
       "      <td>4</td>\n",
       "      <td>908.0</td>\n",
       "      <td>2898467035</td>\n",
       "      <td>38549</td>\n",
       "      <td>GPD</td>\n",
       "      <td>...</td>\n",
       "      <td>0.119</td>\n",
       "      <td>0.117</td>\n",
       "      <td>0.113</td>\n",
       "      <td>0.111</td>\n",
       "      <td>0.095</td>\n",
       "      <td>0.097</td>\n",
       "      <td>0.099</td>\n",
       "      <td>0.091</td>\n",
       "      <td>2</td>\n",
       "      <td>2</td>\n",
       "    </tr>\n",
       "    <tr>\n",
       "      <th>4</th>\n",
       "      <td>778705</td>\n",
       "      <td>0</td>\n",
       "      <td>0</td>\n",
       "      <td>0.0</td>\n",
       "      <td>52296320</td>\n",
       "      <td>0</td>\n",
       "      <td>0.0</td>\n",
       "      <td>3255875127</td>\n",
       "      <td>40955</td>\n",
       "      <td>Other</td>\n",
       "      <td>...</td>\n",
       "      <td>0.226</td>\n",
       "      <td>0.256</td>\n",
       "      <td>0.252</td>\n",
       "      <td>0.244</td>\n",
       "      <td>0.272</td>\n",
       "      <td>0.281</td>\n",
       "      <td>0.270</td>\n",
       "      <td>0.230</td>\n",
       "      <td>5</td>\n",
       "      <td>5</td>\n",
       "    </tr>\n",
       "  </tbody>\n",
       "</table>\n",
       "<p>5 rows × 2891 columns</p>\n",
       "</div>"
      ],
      "text/plain": [
       "   eeg_id  offset_bins  eeg_sub_id  eeg_label_offset_seconds  spectrogram_id  \\\n",
       "0  568657            0           0                       0.0       789577333   \n",
       "1  642382            0           0                       0.0        14960202   \n",
       "2  642382            2           1                      24.0        14960202   \n",
       "3  751790            0           0                       0.0       618728447   \n",
       "4  778705            0           0                       0.0        52296320   \n",
       "\n",
       "   spectrogram_sub_id  spectrogram_label_offset_seconds    label_id  \\\n",
       "0                   0                               0.0  1825637311   \n",
       "1                  12                            1008.0  3254468733   \n",
       "2                  13                            1032.0  2552357208   \n",
       "3                   4                             908.0  2898467035   \n",
       "4                   0                               0.0  3255875127   \n",
       "\n",
       "   patient_id expert_consensus  ...  RP_18.55_min_20s  RP_18.75_min_20s  \\\n",
       "0       20654            Other  ...             1.932             2.129   \n",
       "1        5955            Other  ...             0.121             0.124   \n",
       "2        5955            Other  ...             0.100             0.096   \n",
       "3       38549              GPD  ...             0.119             0.117   \n",
       "4       40955            Other  ...             0.226             0.256   \n",
       "\n",
       "   RP_18.95_min_20s  RP_19.14_min_20s  RP_19.34_min_20s  RP_19.53_min_20s  \\\n",
       "0             2.472             2.743             2.827             2.875   \n",
       "1             0.119             0.114             0.093             0.101   \n",
       "2             0.094             0.133             0.111             0.120   \n",
       "3             0.113             0.111             0.095             0.097   \n",
       "4             0.252             0.244             0.272             0.281   \n",
       "\n",
       "   RP_19.73_min_20s  RP_19.92_min_20s  expert_consensus_to_num  \\\n",
       "0             2.877             2.708                        5   \n",
       "1             0.099             0.092                        5   \n",
       "2             0.111             0.078                        5   \n",
       "3             0.099             0.091                        2   \n",
       "4             0.270             0.230                        5   \n",
       "\n",
       "   max_index_vote_cols  \n",
       "0                    5  \n",
       "1                    5  \n",
       "2                    5  \n",
       "3                    2  \n",
       "4                    5  \n",
       "\n",
       "[5 rows x 2891 columns]"
      ]
     },
     "execution_count": 5,
     "metadata": {},
     "output_type": "execute_result"
    }
   ],
   "source": [
    "eeg_train = pd.read_parquet(\"train_eeg_plus_kaggle_spec.parquet\")\n",
    "eeg_train.head(5)"
   ]
  },
  {
   "cell_type": "code",
   "execution_count": 6,
   "id": "cdc86996-5830-494c-b649-2c1aa2fdaf7b",
   "metadata": {},
   "outputs": [],
   "source": [
    "feature_cols = eeg_train.columns[17:-2]"
   ]
  },
  {
   "cell_type": "code",
   "execution_count": 7,
   "id": "85dc7d29-783d-4840-848c-e6443383ea54",
   "metadata": {},
   "outputs": [],
   "source": [
    "#vote_cols = [c for c in eeg_train.columns.to_list() if '_vote' in c][:-1]\n",
    "vote_cols = ['gpd_vote', 'grda_vote', 'lpd_vote', 'lrda_vote', 'other_vote', 'seizure_vote']"
   ]
  },
  {
   "cell_type": "code",
   "execution_count": 8,
   "id": "826e3b4d-76b0-4a3f-ae2d-0a3be18cb5a6",
   "metadata": {},
   "outputs": [],
   "source": [
    "from scipy.stats import entropy"
   ]
  },
  {
   "cell_type": "code",
   "execution_count": 9,
   "id": "eb5d5228-2268-4ece-9cc2-450fed8bf20d",
   "metadata": {},
   "outputs": [
    {
     "data": {
      "text/plain": [
       "0    1.000000\n",
       "1    0.333333\n",
       "2    0.333333\n",
       "3    0.333333\n",
       "4    0.666667\n",
       "Name: weight, dtype: float64"
      ]
     },
     "execution_count": 9,
     "metadata": {},
     "output_type": "execute_result"
    }
   ],
   "source": [
    "eeg_train['weight'] = eeg_train['total_votes'].apply(lambda x : min(x/3, 1))\n",
    "eeg_train.head(5)['weight']"
   ]
  },
  {
   "cell_type": "code",
   "execution_count": 16,
   "id": "b3aa568f-b409-4bdc-925c-13e77e5a2112",
   "metadata": {},
   "outputs": [
    {
     "name": "stdout",
     "output_type": "stream",
     "text": [
      "0 0 0\n",
      "0 0 1\n",
      "0 1 0\n",
      "0 1 1\n",
      "0 2 0\n",
      "0 2 1\n",
      "1 0 0\n",
      "1 0 1\n",
      "1 1 0\n",
      "1 1 1\n",
      "1 2 0\n",
      "1 2 1\n",
      "2 0 0\n",
      "2 0 1\n",
      "2 1 0\n",
      "2 1 1\n",
      "2 2 0\n",
      "2 2 1\n",
      "3 0 0\n",
      "3 0 1\n",
      "3 1 0\n",
      "3 1 1\n",
      "3 2 0\n",
      "3 2 1\n",
      "4 0 0\n",
      "4 0 1\n",
      "4 1 0\n",
      "4 1 1\n",
      "4 2 0\n",
      "4 2 1\n"
     ]
    }
   ],
   "source": [
    "max_depths = range(14, 21, 3)\n",
    "n_trees = [500, 1000]\n",
    "\n",
    "rf_accs = np.zeros((n_splits, len(max_depths), len(n_trees)))\n",
    "rf_ces = np.zeros((n_splits, len(max_depths), len(n_trees)))\n",
    "\n",
    "i = 0\n",
    "for train_index, test_index in kfold.split(eeg_train, eeg_train.expert_consensus, groups=eeg_train.patient_id):\n",
    "    eeg_tt = eeg_train.iloc[train_index]\n",
    "    eeg_ho = eeg_train.iloc[test_index]\n",
    "\n",
    "    j = 0\n",
    "    for max_depth in max_depths:\n",
    "        k = 0\n",
    "        for n_estimators in n_trees:\n",
    "            print(i,j,k)\n",
    "            rf = RandomForestClassifier(n_estimators = n_estimators,\n",
    "                                           max_depth = max_depth,\n",
    "                                           max_samples = int(.8*len(eeg_tt)),\n",
    "                                           random_state = 7,\n",
    "                                           n_jobs = 16)\n",
    "            \n",
    "            rf.fit(eeg_tt[feature_cols], eeg_tt.expert_consensus)\n",
    "            \n",
    "            pred = rf.predict(eeg_ho[feature_cols])\n",
    "            pcs = rf.predict_proba(eeg_ho[feature_cols])\n",
    "\n",
    "            rf_accs[i,j,k] = accuracy_score(eeg_ho.expert_consensus,  pred)\n",
    "            ent = entropy(eeg_ho[vote_cols], pcs.clip(min=1e-15), axis=1)\n",
    "            rf_ces[i,j,k] = np.mean(ent*eeg_train.iloc[test_index]['weight'])\n",
    "            \n",
    "            k = k + 1\n",
    "        j = j + 1\n",
    "    i = i + 1\n"
   ]
  },
  {
   "cell_type": "code",
   "execution_count": 17,
   "id": "c26aad7f-2cd2-41c2-a739-160b854414c3",
   "metadata": {},
   "outputs": [
    {
     "data": {
      "text/plain": [
       "array([[0.54319736, 0.54609077],\n",
       "       [0.5489751 , 0.55082008],\n",
       "       [0.55155956, 0.5533279 ]])"
      ]
     },
     "execution_count": 17,
     "metadata": {},
     "output_type": "execute_result"
    }
   ],
   "source": [
    "np.mean(rf_accs, axis=0)"
   ]
  },
  {
   "cell_type": "code",
   "execution_count": 18,
   "id": "0ccb0d36-a5bc-471e-b417-97c4e5abcdcb",
   "metadata": {},
   "outputs": [
    {
     "data": {
      "text/plain": [
       "array([[0.86000861, 0.85853278],\n",
       "       [0.85626742, 0.85371872],\n",
       "       [0.8551223 , 0.85296949]])"
      ]
     },
     "execution_count": 18,
     "metadata": {},
     "output_type": "execute_result"
    }
   ],
   "source": [
    "np.mean(rf_ces, axis=0)"
   ]
  },
  {
   "cell_type": "code",
   "execution_count": null,
   "id": "8bc4062a-6456-4bdd-87d6-197940e5b2b9",
   "metadata": {},
   "outputs": [],
   "source": []
  }
 ],
 "metadata": {
  "kernelspec": {
   "display_name": "Python 3 (ipykernel)",
   "language": "python",
   "name": "python3"
  },
  "language_info": {
   "codemirror_mode": {
    "name": "ipython",
    "version": 3
   },
   "file_extension": ".py",
   "mimetype": "text/x-python",
   "name": "python",
   "nbconvert_exporter": "python",
   "pygments_lexer": "ipython3",
   "version": "3.10.12"
  }
 },
 "nbformat": 4,
 "nbformat_minor": 5
}
