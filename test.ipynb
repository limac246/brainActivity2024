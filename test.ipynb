{
 "cells": [
  {
   "cell_type": "code",
   "execution_count": 1,
   "metadata": {},
   "outputs": [],
   "source": [
    "import pandas as pd"
   ]
  },
  {
   "cell_type": "code",
   "execution_count": 2,
   "metadata": {},
   "outputs": [],
   "source": [
    "df = pd.read_csv('data_final/train.csv')"
   ]
  },
  {
   "cell_type": "code",
   "execution_count": 3,
   "metadata": {},
   "outputs": [
    {
     "name": "stdout",
     "output_type": "stream",
     "text": [
      "<class 'pandas.core.frame.DataFrame'>\n",
      "RangeIndex: 106800 entries, 0 to 106799\n",
      "Data columns (total 15 columns):\n",
      " #   Column                            Non-Null Count   Dtype  \n",
      "---  ------                            --------------   -----  \n",
      " 0   eeg_id                            106800 non-null  int64  \n",
      " 1   eeg_sub_id                        106800 non-null  int64  \n",
      " 2   eeg_label_offset_seconds          106800 non-null  float64\n",
      " 3   spectrogram_id                    106800 non-null  int64  \n",
      " 4   spectrogram_sub_id                106800 non-null  int64  \n",
      " 5   spectrogram_label_offset_seconds  106800 non-null  float64\n",
      " 6   label_id                          106800 non-null  int64  \n",
      " 7   patient_id                        106800 non-null  int64  \n",
      " 8   expert_consensus                  106800 non-null  object \n",
      " 9   seizure_vote                      106800 non-null  int64  \n",
      " 10  lpd_vote                          106800 non-null  int64  \n",
      " 11  gpd_vote                          106800 non-null  int64  \n",
      " 12  lrda_vote                         106800 non-null  int64  \n",
      " 13  grda_vote                         106800 non-null  int64  \n",
      " 14  other_vote                        106800 non-null  int64  \n",
      "dtypes: float64(2), int64(12), object(1)\n",
      "memory usage: 12.2+ MB\n"
     ]
    }
   ],
   "source": [
    "df.info()"
   ]
  },
  {
   "cell_type": "code",
   "execution_count": null,
   "metadata": {},
   "outputs": [],
   "source": []
  }
 ],
 "metadata": {
  "kernelspec": {
   "display_name": "base",
   "language": "python",
   "name": "python3"
  },
  "language_info": {
   "codemirror_mode": {
    "name": "ipython",
    "version": 3
   },
   "file_extension": ".py",
   "mimetype": "text/x-python",
   "name": "python",
   "nbconvert_exporter": "python",
   "pygments_lexer": "ipython3",
   "version": "3.10.13"
  }
 },
 "nbformat": 4,
 "nbformat_minor": 2
}
