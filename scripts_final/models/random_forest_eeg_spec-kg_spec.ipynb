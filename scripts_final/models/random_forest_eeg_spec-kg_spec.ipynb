{
 "cells": [
  {
   "cell_type": "code",
   "execution_count": 2,
   "id": "536e1f29-6b91-4497-8dca-1f631e18cd99",
   "metadata": {},
   "outputs": [],
   "source": [
    "import pandas as pd\n",
    "import matplotlib.pyplot as plt\n",
    "import numpy as np"
   ]
  },
  {
   "cell_type": "code",
   "execution_count": 3,
   "id": "0b2f94b2-f332-4d95-8a29-226c212a4c7d",
   "metadata": {},
   "outputs": [],
   "source": [
    "from sklearn.model_selection import StratifiedGroupKFold\n",
    "from sklearn.pipeline import Pipeline\n",
    "from sklearn.preprocessing import StandardScaler"
   ]
  },
  {
   "cell_type": "code",
   "execution_count": 4,
   "id": "5b0b8045-a84a-46a9-b9b3-43fe225163d7",
   "metadata": {},
   "outputs": [],
   "source": [
    "from sklearn.ensemble import RandomForestClassifier\n",
    "from sklearn.metrics import log_loss\n",
    "from sklearn.metrics import accuracy_score"
   ]
  },
  {
   "cell_type": "code",
   "execution_count": 5,
   "id": "90220b9b-7ed9-43fe-8e20-8fd17a89bc5f",
   "metadata": {},
   "outputs": [],
   "source": [
    "n_splits = 5\n",
    "kfold = StratifiedGroupKFold(n_splits, random_state=7, shuffle=True)"
   ]
  },
  {
   "cell_type": "code",
   "execution_count": 20,
   "id": "feac7f0c-e6cc-471d-a9c5-9aaf20ac45c0",
   "metadata": {},
   "outputs": [],
   "source": [
    "eeg_train = pd.read_parquet(\"train_all_data.parquet\")"
   ]
  },
  {
   "cell_type": "code",
   "execution_count": 26,
   "id": "1c07e734-9919-49f4-8412-daa4d86ccb69",
   "metadata": {},
   "outputs": [],
   "source": [
    "feature_cols = eeg_train.columns[465:]"
   ]
  },
  {
   "cell_type": "code",
   "execution_count": 27,
   "id": "85dc7d29-783d-4840-848c-e6443383ea54",
   "metadata": {},
   "outputs": [],
   "source": [
    "vote_cols = ['gpd_vote', 'grda_vote', 'lpd_vote', 'lrda_vote', 'other_vote', 'seizure_vote']"
   ]
  },
  {
   "cell_type": "code",
   "execution_count": 28,
   "id": "826e3b4d-76b0-4a3f-ae2d-0a3be18cb5a6",
   "metadata": {},
   "outputs": [],
   "source": [
    "from scipy.stats import entropy"
   ]
  },
  {
   "cell_type": "code",
   "execution_count": 29,
   "id": "eb5d5228-2268-4ece-9cc2-450fed8bf20d",
   "metadata": {},
   "outputs": [
    {
     "data": {
      "text/plain": [
       "index\n",
       "0    1.000000\n",
       "1    0.333333\n",
       "2    0.333333\n",
       "3    0.333333\n",
       "4    0.666667\n",
       "Name: weight, dtype: float64"
      ]
     },
     "execution_count": 29,
     "metadata": {},
     "output_type": "execute_result"
    }
   ],
   "source": [
    "eeg_train['weight'] = eeg_train['total_votes'].apply(lambda x : min(x/3, 1))\n",
    "eeg_train.head(5)['weight']"
   ]
  },
  {
   "cell_type": "code",
   "execution_count": 31,
   "id": "b3aa568f-b409-4bdc-925c-13e77e5a2112",
   "metadata": {},
   "outputs": [
    {
     "name": "stdout",
     "output_type": "stream",
     "text": [
      "0 0 0\n",
      "0 1 0\n",
      "1 0 0\n",
      "1 1 0\n",
      "2 0 0\n",
      "2 1 0\n",
      "3 0 0\n",
      "3 1 0\n",
      "4 0 0\n",
      "4 1 0\n"
     ]
    }
   ],
   "source": [
    "max_depths = range(17, 21, 3)\n",
    "n_trees = [1000]\n",
    "\n",
    "rf_accs = np.zeros((n_splits, len(max_depths), len(n_trees)))\n",
    "rf_ces = np.zeros((n_splits, len(max_depths), len(n_trees)))\n",
    "\n",
    "i = 0\n",
    "for train_index, test_index in kfold.split(eeg_train, eeg_train.expert_consensus, groups=eeg_train.patient_id):\n",
    "    eeg_tt = eeg_train.iloc[train_index]\n",
    "    eeg_ho = eeg_train.iloc[test_index]\n",
    "\n",
    "    j = 0\n",
    "    for max_depth in max_depths:\n",
    "        k = 0\n",
    "        for n_estimators in n_trees:\n",
    "            print(i,j,k)\n",
    "            rf = RandomForestClassifier(n_estimators = n_estimators,\n",
    "                                           max_depth = max_depth,\n",
    "                                           max_samples = int(.8*len(eeg_tt)),\n",
    "                                           random_state = 7,\n",
    "                                           n_jobs = 16)\n",
    "            \n",
    "            rf.fit(eeg_tt[feature_cols], eeg_tt.expert_consensus)\n",
    "            \n",
    "            pred = rf.predict(eeg_ho[feature_cols])\n",
    "            pcs = rf.predict_proba(eeg_ho[feature_cols])\n",
    "\n",
    "            rf_accs[i,j,k] = accuracy_score(eeg_ho.expert_consensus,  pred)\n",
    "            ent = entropy(eeg_ho[vote_cols], pcs.clip(min=1e-15), axis=1)\n",
    "            rf_ces[i,j,k] = np.mean(ent*eeg_train.iloc[test_index]['weight'])\n",
    "            \n",
    "            k = k + 1\n",
    "        j = j + 1\n",
    "    i = i + 1\n"
   ]
  },
  {
   "cell_type": "code",
   "execution_count": 32,
   "id": "c26aad7f-2cd2-41c2-a739-160b854414c3",
   "metadata": {},
   "outputs": [
    {
     "data": {
      "text/plain": [
       "array([[0.55763171],\n",
       "       [0.55944496]])"
      ]
     },
     "execution_count": 32,
     "metadata": {},
     "output_type": "execute_result"
    }
   ],
   "source": [
    "np.mean(rf_accs, axis=0)"
   ]
  },
  {
   "cell_type": "code",
   "execution_count": 33,
   "id": "0ccb0d36-a5bc-471e-b417-97c4e5abcdcb",
   "metadata": {},
   "outputs": [
    {
     "data": {
      "text/plain": [
       "array([[0.82170219],\n",
       "       [0.82080242]])"
      ]
     },
     "execution_count": 33,
     "metadata": {},
     "output_type": "execute_result"
    }
   ],
   "source": [
    "np.mean(rf_ces, axis=0)"
   ]
  },
  {
   "cell_type": "code",
   "execution_count": null,
   "id": "528318a6-681b-451a-b01e-f71ce3059dcb",
   "metadata": {},
   "outputs": [],
   "source": []
  }
 ],
 "metadata": {
  "kernelspec": {
   "display_name": "Python 3 (ipykernel)",
   "language": "python",
   "name": "python3"
  },
  "language_info": {
   "codemirror_mode": {
    "name": "ipython",
    "version": 3
   },
   "file_extension": ".py",
   "mimetype": "text/x-python",
   "name": "python",
   "nbconvert_exporter": "python",
   "pygments_lexer": "ipython3",
   "version": "3.10.12"
  }
 },
 "nbformat": 4,
 "nbformat_minor": 5
}
