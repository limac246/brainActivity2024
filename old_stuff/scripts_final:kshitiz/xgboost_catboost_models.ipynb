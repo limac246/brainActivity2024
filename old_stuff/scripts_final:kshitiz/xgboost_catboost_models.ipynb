{
  "cells": [
    {
      "cell_type": "markdown",
      "metadata": {
        "id": "CEWWHge2qGuP"
      },
      "source": [
        "In this notebook, we explore different boosting methods, namely XGBoost and CatBoost.\n",
        "We also explore a bayesian optimization based python library called 'hyperOpt' for hyperparamter tuning.\n",
        "\n",
        "Note that XGBoost and CatBoost training has been set to run on GPU to speed up training"
      ]
    },
    {
      "cell_type": "code",
      "execution_count": null,
      "metadata": {
        "colab": {
          "base_uri": "https://localhost:8080/"
        },
        "id": "3V7Cjbh0bYrp",
        "outputId": "c530c1f4-a747-42e0-e75f-f74fb1c00b3c"
      },
      "outputs": [],
      "source": [
        "##Importing the required libraries\n",
        "\n",
        "import numpy as np\n",
        "import cupy\n",
        "import pandas as pd\n",
        "import time\n",
        "import matplotlib.pyplot as plt\n",
        "\n",
        "plt.rcParams.update({'font.size': 12})\n",
        "\n",
        "##Libraries for evaluation metrics and cross validation\n",
        "from scipy.stats import entropy\n",
        "from sklearn.model_selection import StratifiedGroupKFold\n",
        "\n",
        "##bayesian optimization baased hyperOpt library\n",
        "from hyperopt import hp, fmin, tpe, STATUS_OK, Trials, space_eval\n",
        "\n",
        "##Libraries for ensemble methods considered in the study\n",
        "from xgboost import XGBClassifier\n",
        "import catboost"
      ]
    },
    {
      "cell_type": "code",
      "execution_count": null,
      "metadata": {
        "id": "vQvpEKK6YGC-"
      },
      "outputs": [],
      "source": [
        "# for reproducibility of K-fold dataset stratification and catboost model training\n",
        "random_seed = 216 \n",
        "# path to folder where train data after processing with merge_spectrogram_features_n_train_test_split.ipynb is stored\n",
        "data_path = 'data/'"
      ]
    },
    {
      "cell_type": "markdown",
      "metadata": {
        "id": "pUCJw7ORjvNX"
      },
      "source": [
        "## Load data"
      ]
    },
    {
      "cell_type": "markdown",
      "metadata": {},
      "source": [
        "Note that the training set being used is after feature selection (saved in feature_selection_catboost.ipynb)"
      ]
    },
    {
      "cell_type": "code",
      "execution_count": null,
      "metadata": {
        "id": "evg6hSYEbtfD"
      },
      "outputs": [],
      "source": [
        "# reading the train set\n",
        "train = pd.read_parquet(data_path + 'train_selected_features.parquet')"
      ]
    },
    {
      "cell_type": "code",
      "execution_count": null,
      "metadata": {
        "colab": {
          "base_uri": "https://localhost:8080/"
        },
        "id": "CKrytaJqv2RG",
        "outputId": "4e00e399-5bd2-42a9-b503-744a77b589b4"
      },
      "outputs": [
        {
          "data": {
            "text/plain": [
              "(29059, 2008)"
            ]
          },
          "execution_count": 17,
          "metadata": {},
          "output_type": "execute_result"
        }
      ],
      "source": [
        "train.shape"
      ]
    },
    {
      "cell_type": "code",
      "execution_count": null,
      "metadata": {
        "colab": {
          "base_uri": "https://localhost:8080/",
          "height": 256
        },
        "id": "D10QSvlpwedB",
        "outputId": "6f3ab3cc-5e2c-4a28-c336-32df999700e9"
      },
      "outputs": [
        {
          "data": {
            "application/vnd.google.colaboratory.intrinsic+json": {
              "type": "dataframe",
              "variable_name": "train"
            },
            "text/html": [
              "\n",
              "  <div id=\"df-59dd1800-7af6-48e4-a09f-6e0b589350a4\" class=\"colab-df-container\">\n",
              "    <div>\n",
              "<style scoped>\n",
              "    .dataframe tbody tr th:only-of-type {\n",
              "        vertical-align: middle;\n",
              "    }\n",
              "\n",
              "    .dataframe tbody tr th {\n",
              "        vertical-align: top;\n",
              "    }\n",
              "\n",
              "    .dataframe thead th {\n",
              "        text-align: right;\n",
              "    }\n",
              "</style>\n",
              "<table border=\"1\" class=\"dataframe\">\n",
              "  <thead>\n",
              "    <tr style=\"text-align: right;\">\n",
              "      <th></th>\n",
              "      <th>label_id</th>\n",
              "      <th>patient_id</th>\n",
              "      <th>expert_consensus</th>\n",
              "      <th>seizure_vote</th>\n",
              "      <th>lpd_vote</th>\n",
              "      <th>gpd_vote</th>\n",
              "      <th>lrda_vote</th>\n",
              "      <th>grda_vote</th>\n",
              "      <th>other_vote</th>\n",
              "      <th>total_votes</th>\n",
              "      <th>...</th>\n",
              "      <th>eeg_max_f391_10s</th>\n",
              "      <th>RL_18.36_mean_10m</th>\n",
              "      <th>eeg_max_f496_10s</th>\n",
              "      <th>RL_8.2_mean_10m</th>\n",
              "      <th>eeg_std_f482_10s</th>\n",
              "      <th>eeg_std_f5_10s</th>\n",
              "      <th>eeg_min_f395_10s</th>\n",
              "      <th>RL_19.14_max_10m</th>\n",
              "      <th>RL_16.6_max_10m</th>\n",
              "      <th>LL_11.91_max_10m</th>\n",
              "    </tr>\n",
              "  </thead>\n",
              "  <tbody>\n",
              "    <tr>\n",
              "      <th>0</th>\n",
              "      <td>1825637311</td>\n",
              "      <td>20654</td>\n",
              "      <td>Other</td>\n",
              "      <td>0.0</td>\n",
              "      <td>0.0</td>\n",
              "      <td>0.25</td>\n",
              "      <td>0.0</td>\n",
              "      <td>0.166667</td>\n",
              "      <td>0.583333</td>\n",
              "      <td>48</td>\n",
              "      <td>...</td>\n",
              "      <td>0.915917</td>\n",
              "      <td>1.997300</td>\n",
              "      <td>0.321155</td>\n",
              "      <td>14.899199</td>\n",
              "      <td>0.178087</td>\n",
              "      <td>0.099682</td>\n",
              "      <td>0.352378</td>\n",
              "      <td>213.360001</td>\n",
              "      <td>283.549988</td>\n",
              "      <td>147.690002</td>\n",
              "    </tr>\n",
              "    <tr>\n",
              "      <th>1</th>\n",
              "      <td>3254468733</td>\n",
              "      <td>5955</td>\n",
              "      <td>Other</td>\n",
              "      <td>0.0</td>\n",
              "      <td>0.0</td>\n",
              "      <td>0.00</td>\n",
              "      <td>0.0</td>\n",
              "      <td>0.000000</td>\n",
              "      <td>1.000000</td>\n",
              "      <td>1</td>\n",
              "      <td>...</td>\n",
              "      <td>0.838847</td>\n",
              "      <td>0.075333</td>\n",
              "      <td>0.029258</td>\n",
              "      <td>0.494100</td>\n",
              "      <td>0.093478</td>\n",
              "      <td>0.125884</td>\n",
              "      <td>0.399454</td>\n",
              "      <td>1.740000</td>\n",
              "      <td>1.140000</td>\n",
              "      <td>1.030000</td>\n",
              "    </tr>\n",
              "    <tr>\n",
              "      <th>2</th>\n",
              "      <td>2552357208</td>\n",
              "      <td>5955</td>\n",
              "      <td>Other</td>\n",
              "      <td>0.0</td>\n",
              "      <td>0.0</td>\n",
              "      <td>0.00</td>\n",
              "      <td>0.0</td>\n",
              "      <td>0.000000</td>\n",
              "      <td>1.000000</td>\n",
              "      <td>1</td>\n",
              "      <td>...</td>\n",
              "      <td>0.857768</td>\n",
              "      <td>0.076533</td>\n",
              "      <td>0.027460</td>\n",
              "      <td>0.482100</td>\n",
              "      <td>0.084322</td>\n",
              "      <td>0.100192</td>\n",
              "      <td>0.265065</td>\n",
              "      <td>1.740000</td>\n",
              "      <td>1.140000</td>\n",
              "      <td>1.030000</td>\n",
              "    </tr>\n",
              "    <tr>\n",
              "      <th>3</th>\n",
              "      <td>2898467035</td>\n",
              "      <td>38549</td>\n",
              "      <td>GPD</td>\n",
              "      <td>0.0</td>\n",
              "      <td>0.0</td>\n",
              "      <td>1.00</td>\n",
              "      <td>0.0</td>\n",
              "      <td>0.000000</td>\n",
              "      <td>0.000000</td>\n",
              "      <td>1</td>\n",
              "      <td>...</td>\n",
              "      <td>0.886398</td>\n",
              "      <td>0.104400</td>\n",
              "      <td>0.252423</td>\n",
              "      <td>2.158333</td>\n",
              "      <td>0.134317</td>\n",
              "      <td>0.140510</td>\n",
              "      <td>0.289365</td>\n",
              "      <td>0.390000</td>\n",
              "      <td>0.890000</td>\n",
              "      <td>3.400000</td>\n",
              "    </tr>\n",
              "    <tr>\n",
              "      <th>4</th>\n",
              "      <td>3255875127</td>\n",
              "      <td>40955</td>\n",
              "      <td>Other</td>\n",
              "      <td>0.0</td>\n",
              "      <td>0.0</td>\n",
              "      <td>0.00</td>\n",
              "      <td>0.0</td>\n",
              "      <td>0.000000</td>\n",
              "      <td>1.000000</td>\n",
              "      <td>2</td>\n",
              "      <td>...</td>\n",
              "      <td>0.577442</td>\n",
              "      <td>0.220367</td>\n",
              "      <td>-0.128264</td>\n",
              "      <td>1.586300</td>\n",
              "      <td>0.073278</td>\n",
              "      <td>0.056153</td>\n",
              "      <td>0.271641</td>\n",
              "      <td>1.630000</td>\n",
              "      <td>2.120000</td>\n",
              "      <td>1.450000</td>\n",
              "    </tr>\n",
              "  </tbody>\n",
              "</table>\n",
              "<p>5 rows × 2008 columns</p>\n",
              "</div>\n",
              "    <div class=\"colab-df-buttons\">\n",
              "\n",
              "  <div class=\"colab-df-container\">\n",
              "    <button class=\"colab-df-convert\" onclick=\"convertToInteractive('df-59dd1800-7af6-48e4-a09f-6e0b589350a4')\"\n",
              "            title=\"Convert this dataframe to an interactive table.\"\n",
              "            style=\"display:none;\">\n",
              "\n",
              "  <svg xmlns=\"http://www.w3.org/2000/svg\" height=\"24px\" viewBox=\"0 -960 960 960\">\n",
              "    <path d=\"M120-120v-720h720v720H120Zm60-500h600v-160H180v160Zm220 220h160v-160H400v160Zm0 220h160v-160H400v160ZM180-400h160v-160H180v160Zm440 0h160v-160H620v160ZM180-180h160v-160H180v160Zm440 0h160v-160H620v160Z\"/>\n",
              "  </svg>\n",
              "    </button>\n",
              "\n",
              "  <style>\n",
              "    .colab-df-container {\n",
              "      display:flex;\n",
              "      gap: 12px;\n",
              "    }\n",
              "\n",
              "    .colab-df-convert {\n",
              "      background-color: #E8F0FE;\n",
              "      border: none;\n",
              "      border-radius: 50%;\n",
              "      cursor: pointer;\n",
              "      display: none;\n",
              "      fill: #1967D2;\n",
              "      height: 32px;\n",
              "      padding: 0 0 0 0;\n",
              "      width: 32px;\n",
              "    }\n",
              "\n",
              "    .colab-df-convert:hover {\n",
              "      background-color: #E2EBFA;\n",
              "      box-shadow: 0px 1px 2px rgba(60, 64, 67, 0.3), 0px 1px 3px 1px rgba(60, 64, 67, 0.15);\n",
              "      fill: #174EA6;\n",
              "    }\n",
              "\n",
              "    .colab-df-buttons div {\n",
              "      margin-bottom: 4px;\n",
              "    }\n",
              "\n",
              "    [theme=dark] .colab-df-convert {\n",
              "      background-color: #3B4455;\n",
              "      fill: #D2E3FC;\n",
              "    }\n",
              "\n",
              "    [theme=dark] .colab-df-convert:hover {\n",
              "      background-color: #434B5C;\n",
              "      box-shadow: 0px 1px 3px 1px rgba(0, 0, 0, 0.15);\n",
              "      filter: drop-shadow(0px 1px 2px rgba(0, 0, 0, 0.3));\n",
              "      fill: #FFFFFF;\n",
              "    }\n",
              "  </style>\n",
              "\n",
              "    <script>\n",
              "      const buttonEl =\n",
              "        document.querySelector('#df-59dd1800-7af6-48e4-a09f-6e0b589350a4 button.colab-df-convert');\n",
              "      buttonEl.style.display =\n",
              "        google.colab.kernel.accessAllowed ? 'block' : 'none';\n",
              "\n",
              "      async function convertToInteractive(key) {\n",
              "        const element = document.querySelector('#df-59dd1800-7af6-48e4-a09f-6e0b589350a4');\n",
              "        const dataTable =\n",
              "          await google.colab.kernel.invokeFunction('convertToInteractive',\n",
              "                                                    [key], {});\n",
              "        if (!dataTable) return;\n",
              "\n",
              "        const docLinkHtml = 'Like what you see? Visit the ' +\n",
              "          '<a target=\"_blank\" href=https://colab.research.google.com/notebooks/data_table.ipynb>data table notebook</a>'\n",
              "          + ' to learn more about interactive tables.';\n",
              "        element.innerHTML = '';\n",
              "        dataTable['output_type'] = 'display_data';\n",
              "        await google.colab.output.renderOutput(dataTable, element);\n",
              "        const docLink = document.createElement('div');\n",
              "        docLink.innerHTML = docLinkHtml;\n",
              "        element.appendChild(docLink);\n",
              "      }\n",
              "    </script>\n",
              "  </div>\n",
              "\n",
              "\n",
              "<div id=\"df-647bcef4-c293-446d-84ab-c38a469ce378\">\n",
              "  <button class=\"colab-df-quickchart\" onclick=\"quickchart('df-647bcef4-c293-446d-84ab-c38a469ce378')\"\n",
              "            title=\"Suggest charts\"\n",
              "            style=\"display:none;\">\n",
              "\n",
              "<svg xmlns=\"http://www.w3.org/2000/svg\" height=\"24px\"viewBox=\"0 0 24 24\"\n",
              "     width=\"24px\">\n",
              "    <g>\n",
              "        <path d=\"M19 3H5c-1.1 0-2 .9-2 2v14c0 1.1.9 2 2 2h14c1.1 0 2-.9 2-2V5c0-1.1-.9-2-2-2zM9 17H7v-7h2v7zm4 0h-2V7h2v10zm4 0h-2v-4h2v4z\"/>\n",
              "    </g>\n",
              "</svg>\n",
              "  </button>\n",
              "\n",
              "<style>\n",
              "  .colab-df-quickchart {\n",
              "      --bg-color: #E8F0FE;\n",
              "      --fill-color: #1967D2;\n",
              "      --hover-bg-color: #E2EBFA;\n",
              "      --hover-fill-color: #174EA6;\n",
              "      --disabled-fill-color: #AAA;\n",
              "      --disabled-bg-color: #DDD;\n",
              "  }\n",
              "\n",
              "  [theme=dark] .colab-df-quickchart {\n",
              "      --bg-color: #3B4455;\n",
              "      --fill-color: #D2E3FC;\n",
              "      --hover-bg-color: #434B5C;\n",
              "      --hover-fill-color: #FFFFFF;\n",
              "      --disabled-bg-color: #3B4455;\n",
              "      --disabled-fill-color: #666;\n",
              "  }\n",
              "\n",
              "  .colab-df-quickchart {\n",
              "    background-color: var(--bg-color);\n",
              "    border: none;\n",
              "    border-radius: 50%;\n",
              "    cursor: pointer;\n",
              "    display: none;\n",
              "    fill: var(--fill-color);\n",
              "    height: 32px;\n",
              "    padding: 0;\n",
              "    width: 32px;\n",
              "  }\n",
              "\n",
              "  .colab-df-quickchart:hover {\n",
              "    background-color: var(--hover-bg-color);\n",
              "    box-shadow: 0 1px 2px rgba(60, 64, 67, 0.3), 0 1px 3px 1px rgba(60, 64, 67, 0.15);\n",
              "    fill: var(--button-hover-fill-color);\n",
              "  }\n",
              "\n",
              "  .colab-df-quickchart-complete:disabled,\n",
              "  .colab-df-quickchart-complete:disabled:hover {\n",
              "    background-color: var(--disabled-bg-color);\n",
              "    fill: var(--disabled-fill-color);\n",
              "    box-shadow: none;\n",
              "  }\n",
              "\n",
              "  .colab-df-spinner {\n",
              "    border: 2px solid var(--fill-color);\n",
              "    border-color: transparent;\n",
              "    border-bottom-color: var(--fill-color);\n",
              "    animation:\n",
              "      spin 1s steps(1) infinite;\n",
              "  }\n",
              "\n",
              "  @keyframes spin {\n",
              "    0% {\n",
              "      border-color: transparent;\n",
              "      border-bottom-color: var(--fill-color);\n",
              "      border-left-color: var(--fill-color);\n",
              "    }\n",
              "    20% {\n",
              "      border-color: transparent;\n",
              "      border-left-color: var(--fill-color);\n",
              "      border-top-color: var(--fill-color);\n",
              "    }\n",
              "    30% {\n",
              "      border-color: transparent;\n",
              "      border-left-color: var(--fill-color);\n",
              "      border-top-color: var(--fill-color);\n",
              "      border-right-color: var(--fill-color);\n",
              "    }\n",
              "    40% {\n",
              "      border-color: transparent;\n",
              "      border-right-color: var(--fill-color);\n",
              "      border-top-color: var(--fill-color);\n",
              "    }\n",
              "    60% {\n",
              "      border-color: transparent;\n",
              "      border-right-color: var(--fill-color);\n",
              "    }\n",
              "    80% {\n",
              "      border-color: transparent;\n",
              "      border-right-color: var(--fill-color);\n",
              "      border-bottom-color: var(--fill-color);\n",
              "    }\n",
              "    90% {\n",
              "      border-color: transparent;\n",
              "      border-bottom-color: var(--fill-color);\n",
              "    }\n",
              "  }\n",
              "</style>\n",
              "\n",
              "  <script>\n",
              "    async function quickchart(key) {\n",
              "      const quickchartButtonEl =\n",
              "        document.querySelector('#' + key + ' button');\n",
              "      quickchartButtonEl.disabled = true;  // To prevent multiple clicks.\n",
              "      quickchartButtonEl.classList.add('colab-df-spinner');\n",
              "      try {\n",
              "        const charts = await google.colab.kernel.invokeFunction(\n",
              "            'suggestCharts', [key], {});\n",
              "      } catch (error) {\n",
              "        console.error('Error during call to suggestCharts:', error);\n",
              "      }\n",
              "      quickchartButtonEl.classList.remove('colab-df-spinner');\n",
              "      quickchartButtonEl.classList.add('colab-df-quickchart-complete');\n",
              "    }\n",
              "    (() => {\n",
              "      let quickchartButtonEl =\n",
              "        document.querySelector('#df-647bcef4-c293-446d-84ab-c38a469ce378 button');\n",
              "      quickchartButtonEl.style.display =\n",
              "        google.colab.kernel.accessAllowed ? 'block' : 'none';\n",
              "    })();\n",
              "  </script>\n",
              "</div>\n",
              "\n",
              "    </div>\n",
              "  </div>\n"
            ],
            "text/plain": [
              "     label_id  patient_id expert_consensus  seizure_vote  lpd_vote  gpd_vote  \\\n",
              "0  1825637311       20654            Other           0.0       0.0      0.25   \n",
              "1  3254468733        5955            Other           0.0       0.0      0.00   \n",
              "2  2552357208        5955            Other           0.0       0.0      0.00   \n",
              "3  2898467035       38549              GPD           0.0       0.0      1.00   \n",
              "4  3255875127       40955            Other           0.0       0.0      0.00   \n",
              "\n",
              "   lrda_vote  grda_vote  other_vote  total_votes  ...  eeg_max_f391_10s  \\\n",
              "0        0.0   0.166667    0.583333           48  ...          0.915917   \n",
              "1        0.0   0.000000    1.000000            1  ...          0.838847   \n",
              "2        0.0   0.000000    1.000000            1  ...          0.857768   \n",
              "3        0.0   0.000000    0.000000            1  ...          0.886398   \n",
              "4        0.0   0.000000    1.000000            2  ...          0.577442   \n",
              "\n",
              "   RL_18.36_mean_10m  eeg_max_f496_10s  RL_8.2_mean_10m  eeg_std_f482_10s  \\\n",
              "0           1.997300          0.321155        14.899199          0.178087   \n",
              "1           0.075333          0.029258         0.494100          0.093478   \n",
              "2           0.076533          0.027460         0.482100          0.084322   \n",
              "3           0.104400          0.252423         2.158333          0.134317   \n",
              "4           0.220367         -0.128264         1.586300          0.073278   \n",
              "\n",
              "   eeg_std_f5_10s  eeg_min_f395_10s  RL_19.14_max_10m  RL_16.6_max_10m  \\\n",
              "0        0.099682          0.352378        213.360001       283.549988   \n",
              "1        0.125884          0.399454          1.740000         1.140000   \n",
              "2        0.100192          0.265065          1.740000         1.140000   \n",
              "3        0.140510          0.289365          0.390000         0.890000   \n",
              "4        0.056153          0.271641          1.630000         2.120000   \n",
              "\n",
              "   LL_11.91_max_10m  \n",
              "0        147.690002  \n",
              "1          1.030000  \n",
              "2          1.030000  \n",
              "3          3.400000  \n",
              "4          1.450000  \n",
              "\n",
              "[5 rows x 2008 columns]"
            ]
          },
          "execution_count": 18,
          "metadata": {},
          "output_type": "execute_result"
        }
      ],
      "source": [
        "train.head()"
      ]
    },
    {
      "cell_type": "code",
      "execution_count": null,
      "metadata": {
        "colab": {
          "base_uri": "https://localhost:8080/"
        },
        "id": "oEPadYMel9hn",
        "outputId": "21a88078-9aff-43db-90ec-8efa516b5677"
      },
      "outputs": [
        {
          "data": {
            "text/plain": [
              "['seizure_vote',\n",
              " 'lpd_vote',\n",
              " 'gpd_vote',\n",
              " 'lrda_vote',\n",
              " 'grda_vote',\n",
              " 'other_vote']"
            ]
          },
          "execution_count": 21,
          "metadata": {},
          "output_type": "execute_result"
        }
      ],
      "source": [
        "# Vote columns corresponding to each of the classes\n",
        "vote_cols = train.columns[train.columns.str.endswith('_vote')].tolist()\n",
        "vote_cols"
      ]
    },
    {
      "cell_type": "code",
      "execution_count": null,
      "metadata": {
        "colab": {
          "base_uri": "https://localhost:8080/"
        },
        "id": "PwILmSnh_1W9",
        "outputId": "74751f0b-62a7-4af9-ce03-e4710770c5af"
      },
      "outputs": [
        {
          "data": {
            "text/plain": [
              "1998"
            ]
          },
          "execution_count": 22,
          "metadata": {},
          "output_type": "execute_result"
        }
      ],
      "source": [
        "# Features to be used for training\n",
        "FEATURES = train.columns[range(10,train.shape[1])].tolist()\n",
        "len(FEATURES)"
      ]
    },
    {
      "cell_type": "code",
      "execution_count": null,
      "metadata": {
        "colab": {
          "base_uri": "https://localhost:8080/"
        },
        "id": "qcxMdZzpr12p",
        "outputId": "d581aaaa-5cc9-4ecb-9532-2d1b93eb6af9"
      },
      "outputs": [
        {
          "data": {
            "text/plain": [
              "(29059,)"
            ]
          },
          "execution_count": 25,
          "metadata": {},
          "output_type": "execute_result"
        }
      ],
      "source": [
        "# sample weights based on total votes\n",
        "weights_total_vote = [min(t/3,1) for t in train.total_votes.tolist()]\n",
        "weights_total_vote = np.array(weights_total_vote)\n",
        "weights_total_vote.shape"
      ]
    },
    {
      "cell_type": "markdown",
      "metadata": {
        "id": "7znzMrhX-_wW"
      },
      "source": [
        "## Helper functions"
      ]
    },
    {
      "cell_type": "code",
      "execution_count": null,
      "metadata": {
        "id": "BSlBZGYv_CE2"
      },
      "outputs": [],
      "source": [
        "## Function for evaluating the performance of model based on k-fold validation\n",
        "def eval_kl_div(y_true, y_pred, sample_weight):\n",
        "    \"\"\"\n",
        "    Parameters\n",
        "    ----------\n",
        "    y_true : 2D numpy array, True probability values\n",
        "    y_pred : 2D numpy array, Predicted probability values\n",
        "    sample_weight: numpy vector, for weighted average KL divergence\n",
        "\n",
        "    Output\n",
        "    ------\n",
        "    Mean (averaged over all samples) KL divergence\n",
        "    \"\"\"\n",
        "\n",
        "    # Compute KL divergence for all the samples\n",
        "    kl_div_all = entropy(y_true, y_pred, axis=1)\n",
        "\n",
        "    return np.average(kl_div_all, weights=sample_weight)"
      ]
    },
    {
      "cell_type": "code",
      "execution_count": null,
      "metadata": {
        "id": "lKPZ0OUNzYBM"
      },
      "outputs": [],
      "source": [
        "def cross_validation(params, model, train, features, classes, weights, cv = 5, random_seed = 216):\n",
        "  \"\"\"\n",
        "    Input:\n",
        "    params - parameters for defining the classifier\n",
        "    model - which model to use 'catboost' or 'xgboost'\n",
        "    train - Dataset to perform K-fold CV and compute feature importance\n",
        "    features - name of the features\n",
        "    classes - labels for the eeg classification\n",
        "    weights - for weighting of sample importance based on total votes\n",
        "    cv - number of folds to be used in CV\n",
        "    random_seed - set random number for reproducibility\n",
        "    \n",
        "    Output:\n",
        "    Float: average KL divergence across k fold CV   \n",
        "    \"\"\"\n",
        "  \n",
        "  # for storing kl divergence in each of the CV folds\n",
        "  all_val_kl_div = []\n",
        "\n",
        "  # StratifiedGroupKFold in order to stratify on the expert consensus and separate patient IDs between k folds\n",
        "  sgkf = StratifiedGroupKFold(n_splits=cv, shuffle=True, random_state=random_seed)\n",
        "  for i, (train_index, valid_index) in enumerate(sgkf.split(X = train, y = train.expert_consensus, groups = train.patient_id)):\n",
        "\n",
        "    # define the training set for the ith fold\n",
        "    X_train = train.loc[train_index,features].values\n",
        "    y_train = train.loc[train_index,classes].values\n",
        "\n",
        "    # Adapted from https://stackoverflow.com/questions/75762712/how-to-train-xgboost-with-probabilities-instead-of-class\n",
        "    # to train using the probability values of each class in the objective function instead of expert_consensus\n",
        "    n_samples, n_classes = y_train.shape\n",
        "    X_train_upsampled = X_train.repeat(n_classes, axis=0)\n",
        "    y_train_direct = np.tile(range(n_classes), n_samples)\n",
        "    sample_weights = (y_train * np.repeat(weights[train_index],6).reshape(len(weights[train_index]),6)).ravel()\n",
        "\n",
        "    if model == 'xgb':\n",
        "      # Define XGBoost classifier\n",
        "      clf = XGBClassifier(objective='multi:softprob',\n",
        "                          device = 'gpu',\n",
        "                          num_class = len(classes),\n",
        "                          tree_method = 'hist',\n",
        "                          random_state=random_seed,\n",
        "                          **params)\n",
        "    elif model == 'catboost':\n",
        "      # Define Catboost classifier\n",
        "      clf = catboost.CatBoostClassifier(task_type='GPU',\n",
        "                                        objective='MultiClass',\n",
        "                                        random_state=random_seed,\n",
        "                                        verbose=False,\n",
        "                                        **params)\n",
        "\n",
        "    ##fit the model\n",
        "    clf.fit(X_train_upsampled, y_train_direct, sample_weight=sample_weights)\n",
        "\n",
        "    # define the validation set for the ith fold\n",
        "    X_val = train.loc[valid_index,FEATURES].values\n",
        "    y_val = train.loc[valid_index,vote_cols].values\n",
        "\n",
        "    # predict for validation set\n",
        "    if model == 'xgb':\n",
        "      y_pred = clf.predict_proba(cupy.asarray(X_val))\n",
        "    elif model == 'catboost':\n",
        "      y_pred = clf.predict_proba(X_val)\n",
        "    # changing zeros in y_pred to 1e-15 to avoid inf from log\n",
        "    y_pred = y_pred.clip(1e-15)\n",
        "\n",
        "    # KL divergence for validation set\n",
        "    all_val_kl_div.append(eval_kl_div(y_val, y_pred, weights[valid_index]))\n",
        "\n",
        "    del X_train, y_train, X_train_upsampled, y_train_direct, X_val, y_val, y_pred, clf\n",
        "\n",
        "  return np.asarray(all_val_kl_div).mean()\n"
      ]
    },
    {
      "cell_type": "markdown",
      "metadata": {
        "id": "WhxXDMuxJNtx"
      },
      "source": [
        "Using Bayesian optimization based hyperopt python library for finding the optimal hyperparameter set.\n",
        "\n"
      ]
    },
    {
      "cell_type": "code",
      "execution_count": null,
      "metadata": {
        "id": "akJs0sPGyb19"
      },
      "outputs": [],
      "source": [
        "##Code for using hyperopt for hysperparameter search to optimize F1 score is taken from\n",
        "##https://www.kaggle.com/rendyk/bayesian-optimization-bayes-opt-or-fmin#hyperopt\n",
        "##https://districtdatalabs.silvrback.com/parameter-tuning-with-hyperopt\n",
        "\n",
        "##Function to compute the optimal hyperparamter values using hyperOpt\n",
        "def opt_hyperparameter(parameter_space,func_model,max_iterations):\n",
        "    \"\"\"\n",
        "    Parameters\n",
        "    ----------\n",
        "    parameter_space : dict\n",
        "        parameter space to be explored for optimizing F1 score where each key refers to a hyperparamter\n",
        "        and that key's corresponding value defines the space to be explored for that hyperparamter\n",
        "    func_model : value-returning function\n",
        "        To be minimized by hyperopt.fmin(). In our case, since we want to minimize kl_div, func_model returns\n",
        "        as mean kl_div from 5-fold cross validation\n",
        "    max_iterations : Int\n",
        "        maximum number of evaluations the fmin function will perform\n",
        "\n",
        "    Output\n",
        "    ------\n",
        "    best: dict\n",
        "        Optimal hyperparameter values obtained from fmin\n",
        "    trials: object of type hyperopt.base.Trials\n",
        "        Contains various outputs/characteristics after each evaluation, can be used to analysis\n",
        "        the optimization history\n",
        "    \"\"\"\n",
        "\n",
        "    trials = Trials()\n",
        "    best = fmin(fn = func_model, space = parameter_space, algo=tpe.suggest, max_evals=max_iterations, trials=trials)\n",
        "\n",
        "    return best, trials\n",
        "\n",
        "##================================\n",
        "##Function for plotting optimization history (F1-score vs iteration number)\n",
        "##Taken from https://www.kaggle.com/fanvacoolt/tutorial-on-hyperopt\n",
        "def optimization_history(trials):\n",
        "    \"\"\"\n",
        "    Parameters\n",
        "    ----------\n",
        "    trials: object of type hyperopt.base.Trials\n",
        "        Contains various outputs/characteristics after each evaluation, can be used to analysis\n",
        "        the optimization history\n",
        "    \"\"\"\n",
        "\n",
        "    plt.figure(figsize=(12, 6))\n",
        "    plt.plot(range(1, len(trials) + 1), [x['result']['loss'] for x in trials],\n",
        "            color='red', marker='.', linewidth=0)\n",
        "    plt.xlabel('Iteration', fontsize=12)\n",
        "    plt.ylabel('KL Divergence', fontsize=12)\n",
        "    plt.title('Optimization history', fontsize=14)\n",
        "    plt.grid(True)"
      ]
    },
    {
      "cell_type": "markdown",
      "metadata": {
        "id": "BozD_YBEEMm8"
      },
      "source": [
        "XGBosst with default parameters"
      ]
    },
    {
      "cell_type": "code",
      "execution_count": null,
      "metadata": {
        "colab": {
          "base_uri": "https://localhost:8080/"
        },
        "id": "103f62vExJuc",
        "outputId": "b853746b-e043-46f2-b1ff-65d8a690b8d2"
      },
      "outputs": [
        {
          "name": "stdout",
          "output_type": "stream",
          "text": [
            "#########################\n",
            "### Fold 1\n",
            "### train size 23659, valid size 5400\n",
            "#########################\n"
          ]
        }
      ],
      "source": [
        "sgkf = StratifiedGroupKFold(n_splits=5, shuffle=True, random_state=random_seed)\n",
        "\n",
        "for i, (train_index, valid_index) in enumerate(sgkf.split(X = train, y = train.expert_consensus, groups = train.patient_id)):\n",
        "  t = time.time()\n",
        "  print('#'*25)\n",
        "  print(f'### Fold {i+1}')\n",
        "  print(f'### train size {len(train_index)}, valid size {len(valid_index)}')\n",
        "  print('#'*25)\n",
        "  break"
      ]
    },
    {
      "cell_type": "code",
      "execution_count": null,
      "metadata": {
        "id": "9gDv8vHzE_vA"
      },
      "outputs": [],
      "source": [
        "X_train = train.loc[train_index,FEATURES].values\n",
        "y_train = train.loc[train_index,vote_cols].values #.map(TARGETS)"
      ]
    },
    {
      "cell_type": "code",
      "execution_count": null,
      "metadata": {
        "id": "5ub17nheVckd"
      },
      "outputs": [],
      "source": [
        "##Adapted from https://stackoverflow.com/questions/75762712/how-to-train-xgboost-with-probabilities-instead-of-class\n",
        "n_samples, n_classes = y_train.shape\n",
        "X_train_upsampled = X_train.repeat(n_classes, axis=0)\n",
        "y_train_direct = np.tile(range(n_classes), n_samples)\n",
        "sample_weights = (y_train * np.repeat(weights_total_vote[train_index],6).reshape(len(weights_total_vote[train_index]),6)).ravel()"
      ]
    },
    {
      "cell_type": "code",
      "execution_count": null,
      "metadata": {
        "colab": {
          "base_uri": "https://localhost:8080/"
        },
        "id": "E2WtjP7dEQxl",
        "outputId": "057bcd06-2a82-47b6-ea90-26a3dbe71691"
      },
      "outputs": [
        {
          "name": "stdout",
          "output_type": "stream",
          "text": [
            "53.48831081390381\n"
          ]
        }
      ],
      "source": [
        "##define model\n",
        "clf_xgb = XGBClassifier(objective='multi:softprob',\n",
        "                        device = 'gpu',\n",
        "                        num_class = len(vote_cols),\n",
        "                        tree_method = 'hist',\n",
        "                        random_state=random_seed)\n",
        "\n",
        "t = time.time()\n",
        "#fit the model\n",
        "clf_xgb.fit(X_train_upsampled, y_train_direct, verbose=True, sample_weight=sample_weights)\n",
        "\n",
        "print(time.time() - t)"
      ]
    },
    {
      "cell_type": "code",
      "execution_count": null,
      "metadata": {
        "colab": {
          "base_uri": "https://localhost:8080/"
        },
        "id": "MwlpTazTFxSH",
        "outputId": "66fe6858-2a0a-408d-d23c-335bd7d721ea"
      },
      "outputs": [
        {
          "data": {
            "text/plain": [
              "0.8316445963134554"
            ]
          },
          "execution_count": 23,
          "metadata": {},
          "output_type": "execute_result"
        }
      ],
      "source": [
        "X_val = train.loc[valid_index,FEATURES].values\n",
        "y_val = train.loc[valid_index,vote_cols].values\n",
        "\n",
        "##predict for validation set\n",
        "y_pred = clf_xgb.predict_proba(cupy.asarray(X_val))\n",
        "##changing zeros in y_pred to 1e-15 to avoid inf from log\n",
        "y_pred = y_pred.clip(1e-15)\n",
        "\n",
        "##KL divergence for validation set\n",
        "eval_kl_div(y_val, y_pred, weights_total_vote[valid_index])"
      ]
    },
    {
      "cell_type": "code",
      "execution_count": null,
      "metadata": {
        "id": "t4dfuTykzvgs"
      },
      "outputs": [],
      "source": [
        "del clf_xgb, X_train, y_train, X_val, y_val, y_pred, X_train_upsampled, y_train_direct, sample_weights"
      ]
    },
    {
      "cell_type": "markdown",
      "metadata": {
        "id": "mVgJgwStvqC_"
      },
      "source": [
        "## Hyperparameter tuning"
      ]
    },
    {
      "cell_type": "markdown",
      "metadata": {
        "id": "9SusEcnEBQc_"
      },
      "source": [
        "### XGBoost"
      ]
    },
    {
      "cell_type": "markdown",
      "metadata": {},
      "source": [
        "For hyperparameter tuning, we used bayesian optimization based hyperopt python library.\n",
        "\n",
        "**Note:**\n",
        "\n",
        "**1) Run time for the following hyperparamter search is ~3hrs using GPU-based training. Consider using the optimal hyperparameter pre-defined in the next cell that has been found after running this hyperparmameter search.** \n",
        "\n",
        "**2) Due to randomization in the hyperOpt based search, you might get different values for the hyperparamter if you run the hyperparameter search in the next cell. But the optimal mean KL divergence (average over k-fold CV) from the search would still be around 0.78 for XGBoost.**"
      ]
    },
    {
      "cell_type": "code",
      "execution_count": null,
      "metadata": {
        "colab": {
          "base_uri": "https://localhost:8080/",
          "height": 1000
        },
        "id": "HcbVheSQvtbj",
        "outputId": "6f1709ac-cc5b-453b-b8ad-7be906bf6965"
      },
      "outputs": [
        {
          "name": "stdout",
          "output_type": "stream",
          "text": [
            "{'colsample_bytree': 0.6977536424351765, 'gamma': 0.09363067619834166, 'learning_rate': 0.12018896425876123, 'max_depth': 6, 'n_estimators': 243, 'reg_lambda': 3.2637216152125434, 'subsample': 0.8708744732069559}\n",
            "{'colsample_bytree': 0.7542804734126611, 'gamma': 0.13435343831313093, 'learning_rate': 0.3421327777694388, 'max_depth': 6, 'n_estimators': 392, 'reg_lambda': 3.5606567072880164, 'subsample': 0.9366898663486878}\n",
            "{'colsample_bytree': 0.8465673239049628, 'gamma': 0.17781918881544873, 'learning_rate': 0.37988208457316275, 'max_depth': 6, 'n_estimators': 279, 'reg_lambda': 3.6321671957595085, 'subsample': 0.6321873543672205}\n",
            "{'colsample_bytree': 0.6630250525159908, 'gamma': 0.07101103183218484, 'learning_rate': 0.14035431472384935, 'max_depth': 4, 'n_estimators': 417, 'reg_lambda': 1.448199041203513, 'subsample': 0.6758329544410134}\n",
            "{'colsample_bytree': 0.6254559710125687, 'gamma': 0.17100714012204568, 'learning_rate': 0.368497966318927, 'max_depth': 2, 'n_estimators': 121, 'reg_lambda': 3.482458201199588, 'subsample': 0.7812730234954954}\n",
            "{'colsample_bytree': 0.9830471450210849, 'gamma': 0.07702857859002568, 'learning_rate': 0.24733635648565555, 'max_depth': 7, 'n_estimators': 194, 'reg_lambda': 1.5382643501948379, 'subsample': 0.517990311301971}\n",
            "{'colsample_bytree': 0.9699789489378033, 'gamma': 0.15961363720428315, 'learning_rate': 0.39006866850720107, 'max_depth': 4, 'n_estimators': 173, 'reg_lambda': 1.1937110197277236, 'subsample': 0.8399150153750191}\n",
            "{'colsample_bytree': 0.9851759284729866, 'gamma': 0.06003970652883001, 'learning_rate': 0.40455750414974256, 'max_depth': 6, 'n_estimators': 120, 'reg_lambda': 1.1331726737159196, 'subsample': 0.6416183670540982}\n",
            "{'colsample_bytree': 0.8706385740042244, 'gamma': 0.2997254543994052, 'learning_rate': 0.48365120416175683, 'max_depth': 5, 'n_estimators': 355, 'reg_lambda': 1.4036502235967232, 'subsample': 0.6773092221753965}\n",
            "{'colsample_bytree': 0.7861906845526507, 'gamma': 0.010488616132490724, 'learning_rate': 0.4382654234697552, 'max_depth': 2, 'n_estimators': 445, 'reg_lambda': 1.5258212695744842, 'subsample': 0.857877412854347}\n",
            "{'colsample_bytree': 0.7102765035709957, 'gamma': 0.10413439845533841, 'learning_rate': 0.48370189292561583, 'max_depth': 5, 'n_estimators': 354, 'reg_lambda': 2.6016755802150757, 'subsample': 0.5299598658321563}\n",
            "{'colsample_bytree': 0.9115070342267612, 'gamma': 0.11187644448259047, 'learning_rate': 0.1836653385189388, 'max_depth': 5, 'n_estimators': 226, 'reg_lambda': 3.236640119199559, 'subsample': 0.7026961536385724}\n",
            "{'colsample_bytree': 0.7210902082872479, 'gamma': 0.17449869024301928, 'learning_rate': 0.32203322762298575, 'max_depth': 4, 'n_estimators': 173, 'reg_lambda': 3.340135574069866, 'subsample': 0.8636367528930078}\n",
            "{'colsample_bytree': 0.8620500658709205, 'gamma': 0.137840987600116, 'learning_rate': 0.12364724625667682, 'max_depth': 2, 'n_estimators': 485, 'reg_lambda': 2.2561898292210687, 'subsample': 0.759112422251566}\n",
            "{'colsample_bytree': 0.8084655610505069, 'gamma': 0.25888064787673654, 'learning_rate': 0.4098224206162725, 'max_depth': 5, 'n_estimators': 265, 'reg_lambda': 2.7125035266110595, 'subsample': 0.5002251286882609}\n",
            "{'colsample_bytree': 0.6376657493489575, 'gamma': 0.17012927852299328, 'learning_rate': 0.13440876516049854, 'max_depth': 3, 'n_estimators': 470, 'reg_lambda': 2.1752761618923397, 'subsample': 0.7988428380922181}\n",
            "{'colsample_bytree': 0.6447979322692887, 'gamma': 0.06707889770648794, 'learning_rate': 0.13979731074378965, 'max_depth': 4, 'n_estimators': 306, 'reg_lambda': 2.037344770626031, 'subsample': 0.5629202128375734}\n",
            "{'colsample_bytree': 0.5736182681216915, 'gamma': 0.10369481149309108, 'learning_rate': 0.273808446048847, 'max_depth': 3, 'n_estimators': 127, 'reg_lambda': 2.1087474364679064, 'subsample': 0.546285741365313}\n",
            "{'colsample_bytree': 0.9486522299817923, 'gamma': 0.05162809692746238, 'learning_rate': 0.4413104720706435, 'max_depth': 6, 'n_estimators': 464, 'reg_lambda': 1.1588885188144054, 'subsample': 0.5943178237028457}\n",
            "{'colsample_bytree': 0.6142962926681996, 'gamma': 0.2355030752590399, 'learning_rate': 0.13793406266713212, 'max_depth': 5, 'n_estimators': 373, 'reg_lambda': 1.138217460396173, 'subsample': 0.9758917218994207}\n",
            "100%|██████████| 20/20 [2:53:41<00:00, 521.06s/trial, best loss: 0.7775707844277238]\n",
            "It takes 173.69083679914473 minutes\n",
            "---------------Optimal Hyperparamter Set-------------------\n",
            "{'colsample_bytree': 0.6376657493489575, 'gamma': 0.17012927852299328, 'learning_rate': 0.13440876516049854, 'max_depth': 3, 'n_estimators': 470, 'reg_lambda': 2.1752761618923397, 'subsample': 0.7988428380922181}\n",
            "---------------Optimization History-------------------\n"
          ]
        },
        {
          "data": {
            "image/png": "[encoded data removed]",
            "text/plain": [
              "<Figure size 1200x600 with 1 Axes>"
            ]
          },
          "metadata": {},
          "output_type": "display_data"
        }
      ],
      "source": [
        "##Code for using hyperopt for hysperparameter search to optimize KL divergence is taken from\n",
        "##https://www.kaggle.com/rendyk/bayesian-optimization-bayes-opt-or-fmin#hyperopt\n",
        "##https://districtdatalabs.silvrback.com/parameter-tuning-with-hyperopt\n",
        "\n",
        "##Define the hyperparamterparamter space\n",
        "xgbc_param_space = {'max_depth': hp.choice('max_depth', range(2,9)),\n",
        " 'learning_rate': hp.uniform('learning_rate',0.05,0.5),\n",
        " 'subsample': hp.uniform('subsample',0.5,1.0),\n",
        " 'n_estimators': hp.choice('n_estimators', range(100,500)),\n",
        " 'reg_lambda': hp.uniform('reg_lambda',1,4),\n",
        " 'gamma': hp.uniform('gamma',0,0.3),\n",
        " 'colsample_bytree': hp.uniform('colsample_bytree',0.5,1.0)}\n",
        "\n",
        "best = 0\n",
        "##The function to be optimized by hyperopt.fmin(), i.e. output of this function is mean KL_div (averaged over k-fold CV)\n",
        "##which is being optimized by hyprOpt.fmin().\n",
        "def xgbc_func(params):\n",
        "    global best\n",
        "    print(params)\n",
        "\n",
        "    ##Compute the mean KL div score for kfold cross validation\n",
        "    score = cross_validation(params, 'xgb', train, FEATURES, vote_cols, weights_total_vote, 5, random_seed)\n",
        "\n",
        "    ##For keeping track of optimal KL div, print the score everytime a better value is found\n",
        "    if score < best:\n",
        "        best = score\n",
        "        print ('new best:', best)\n",
        "\n",
        "    ##returning -ve of score because hyperopt.fmin() minimizes a function\n",
        "    return {'loss': score, 'status': STATUS_OK}\n",
        "\n",
        "##Start the timer for hyperparamter optimization\n",
        "start = time.time()\n",
        "##Max number of evaluations for hyperopt.fmin()\n",
        "max_iterations = 20\n",
        "##Find the optimal hyperparamter set. Also storing the optimization history\n",
        "xgbc_param_space_indices, xgbc_trials = opt_hyperparameter(xgbc_param_space,xgbc_func,max_iterations)\n",
        "##Obtain the hyperparamter values in the hyperparamter space defined by xgbc_param_space_indices\n",
        "xgbc_best_hp = space_eval(xgbc_param_space,xgbc_param_space_indices)\n",
        "\n",
        "print('It takes %s minutes' % ((time.time() - start)/60))\n",
        "print('---------------Optimal Hyperparamter Set-------------------')\n",
        "print(xgbc_best_hp)\n",
        "print('---------------Optimization History-------------------')\n",
        "optimization_history(xgbc_trials)"
      ]
    },
    {
      "cell_type": "code",
      "execution_count": null,
      "metadata": {
        "id": "VF0d9QGgMkR_"
      },
      "outputs": [],
      "source": [
        "#xgbc_best_hp = {'colsample_bytree': 0.6376657493489575, 'gamma': 0.17012927852299328, 'learning_rate': 0.13440876516049854, 'max_depth': 3, 'n_estimators': 470, 'reg_lambda': 2.1752761618923397, 'subsample': 0.7988428380922181}"
      ]
    },
    {
      "cell_type": "markdown",
      "metadata": {},
      "source": [
        "### Since XGBoost performance was found to be best among the models considered, we train the XGBoost model on all the train set and will use that for subsequent performance evaluation on the test set"
      ]
    },
    {
      "cell_type": "code",
      "execution_count": null,
      "metadata": {
        "id": "JukvEgnphfBQ"
      },
      "outputs": [],
      "source": [
        "# Define the training set\n",
        "X_train = train.loc[:,FEATURES].values\n",
        "y_train = train.loc[:,vote_cols].values\n",
        "\n",
        "# Adapted from https://stackoverflow.com/questions/75762712/how-to-train-xgboost-with-probabilities-instead-of-class\n",
        "# to train using the probability values of each class in the objective function instead of expert_consensus\n",
        "n_samples, n_classes = y_train.shape\n",
        "X_train_upsampled = X_train.repeat(n_classes, axis=0)\n",
        "y_train_direct = np.tile(range(n_classes), n_samples)\n",
        "sample_weights = (y_train * np.repeat(weights_total_vote,6).reshape(len(weights_total_vote),6)).ravel()"
      ]
    },
    {
      "cell_type": "code",
      "execution_count": null,
      "metadata": {
        "colab": {
          "base_uri": "https://localhost:8080/"
        },
        "id": "K9W5Q_Mggw04",
        "outputId": "cad70f64-4d05-49d5-d356-a5f44328f826"
      },
      "outputs": [
        {
          "name": "stdout",
          "output_type": "stream",
          "text": [
            "213.53096652030945\n"
          ]
        }
      ],
      "source": [
        "# Optimal parameters from XGBoost from hyperopt search \n",
        "xgbc_best_hp = {'colsample_bytree': 0.6376657493489575, 'gamma': 0.17012927852299328, 'learning_rate': 0.13440876516049854, 'max_depth': 3, 'n_estimators': 470, 'reg_lambda': 2.1752761618923397, 'subsample': 0.7988428380922181}\n",
        "\n",
        "##Define XGBoost classifier\n",
        "clf_xgb = XGBClassifier(objective='multi:softprob',\n",
        "                    device = 'gpu',\n",
        "                    num_class = len(vote_cols),\n",
        "                    tree_method = 'hist',\n",
        "                    random_state=random_seed,\n",
        "                    **xgbc_best_hp)\n",
        "\n",
        "t = time.time()\n",
        "#fit the model\n",
        "clf_xgb.fit(X_train_upsampled, y_train_direct, verbose=True, sample_weight=sample_weights)\n",
        "print(time.time() - t)\n"
      ]
    },
    {
      "cell_type": "code",
      "execution_count": null,
      "metadata": {
        "colab": {
          "base_uri": "https://localhost:8080/"
        },
        "id": "V4HjgRekhvfo",
        "outputId": "935fa766-aa71-443c-f160-1eb21f44e77e"
      },
      "outputs": [
        {
          "name": "stderr",
          "output_type": "stream",
          "text": [
            "/usr/local/lib/python3.10/dist-packages/xgboost/core.py:160: UserWarning: [13:59:00] WARNING: /workspace/src/common/error_msg.cc:58: Falling back to prediction using DMatrix due to mismatched devices. This might lead to higher memory usage and slower performance. XGBoost is running on: cuda:0, while the input data is on: cpu.\n",
            "Potential solutions:\n",
            "- Use a data structure that matches the device ordinal in the booster.\n",
            "- Set the device for booster before call to inplace_predict.\n",
            "\n",
            "This warning will only be shown once.\n",
            "\n",
            "  warnings.warn(smsg, UserWarning)\n"
          ]
        },
        {
          "data": {
            "text/plain": [
              "0.2865178577432836"
            ]
          },
          "execution_count": 31,
          "metadata": {},
          "output_type": "execute_result"
        }
      ],
      "source": [
        "##predict for validation set\n",
        "y_pred = clf_xgb.predict_proba(cupy.asarray(X_train))\n",
        "##changing zeros in y_pred to 1e-15 to avoid inf from log\n",
        "y_pred = y_pred.clip(1e-15)\n",
        "\n",
        "##KL divergence for validation set\n",
        "eval_kl_div(y_train, y_pred, weights_total_vote)"
      ]
    },
    {
      "cell_type": "code",
      "execution_count": null,
      "metadata": {
        "id": "o30i6gnhiQ8W"
      },
      "outputs": [],
      "source": [
        "# Save the XGBoost model\n",
        "clf_xgb.save_model(data_path + 'xgb_model.json')"
      ]
    },
    {
      "cell_type": "markdown",
      "metadata": {
        "id": "VoShSYyEUNLb"
      },
      "source": [
        "### Catboost"
      ]
    },
    {
      "cell_type": "markdown",
      "metadata": {},
      "source": [
        "For hyperparameter tuning, we used bayesian optimization based hyperopt python library.\n",
        "\n",
        "**Note:**\n",
        "\n",
        "**1) Run time for the following hyperparamter search is ~3hrs using GPU-based training. Consider using the optimal hyperparameter pre-defined in the next cell that has been found after running this hyperparmameter search.** \n",
        "\n",
        "**2) Due to randomization in the hyperOpt based search, you might get different values for the hyperparamter if you run the hyperparameter search in the next cell. But the optimal mean KL divergence (average over k-fold CV) from the search would still be around 0.79 for CatBoost.**"
      ]
    },
    {
      "cell_type": "code",
      "execution_count": null,
      "metadata": {
        "colab": {
          "base_uri": "https://localhost:8080/",
          "height": 1000
        },
        "id": "saj0NdSW9hcZ",
        "outputId": "828536d9-5f78-4025-8ba2-3a52ae3b1ee0"
      },
      "outputs": [
        {
          "name": "stdout",
          "output_type": "stream",
          "text": [
            "{'bagging_temperature': 6.350565850483695, 'learning_rate': 0.119784975895943, 'max_depth': 6, 'n_estimators': 404, 'reg_lambda': 1.690814335164336}\n",
            "{'bagging_temperature': 2.1512882579942225, 'learning_rate': 0.49555186163361264, 'max_depth': 6, 'n_estimators': 270, 'reg_lambda': 1.8852796346263765}\n",
            "{'bagging_temperature': 1.2232856605018305, 'learning_rate': 0.4364773675660722, 'max_depth': 3, 'n_estimators': 177, 'reg_lambda': 3.1405018134697382}\n",
            "{'bagging_temperature': 9.55908629063151, 'learning_rate': 0.20369630375928732, 'max_depth': 3, 'n_estimators': 429, 'reg_lambda': 1.5705292381315563}\n",
            "{'bagging_temperature': 9.520115614164405, 'learning_rate': 0.09517981929194785, 'max_depth': 4, 'n_estimators': 202, 'reg_lambda': 2.411498140102595}\n",
            "{'bagging_temperature': 4.42129594150243, 'learning_rate': 0.12307438577577719, 'max_depth': 6, 'n_estimators': 195, 'reg_lambda': 1.2031929205566803}\n",
            "{'bagging_temperature': 8.541210410355992, 'learning_rate': 0.20440392663892926, 'max_depth': 7, 'n_estimators': 347, 'reg_lambda': 3.1752680440718386}\n",
            "{'bagging_temperature': 0.7665886327736982, 'learning_rate': 0.1077957616344895, 'max_depth': 7, 'n_estimators': 345, 'reg_lambda': 1.6896137369937578}\n",
            "{'bagging_temperature': 1.1044921996390311, 'learning_rate': 0.12364461397387999, 'max_depth': 5, 'n_estimators': 453, 'reg_lambda': 1.6921143511117347}\n",
            "{'bagging_temperature': 0.1466929564392594, 'learning_rate': 0.467097406765915, 'max_depth': 5, 'n_estimators': 103, 'reg_lambda': 1.2957132238593603}\n",
            "{'bagging_temperature': 6.779352301002315, 'learning_rate': 0.33718479203196017, 'max_depth': 6, 'n_estimators': 197, 'reg_lambda': 2.6706803921885616}\n",
            "{'bagging_temperature': 7.349882941994532, 'learning_rate': 0.21597801679948864, 'max_depth': 7, 'n_estimators': 261, 'reg_lambda': 1.9169779125095765}\n",
            "{'bagging_temperature': 9.011827746456838, 'learning_rate': 0.2928961815476177, 'max_depth': 6, 'n_estimators': 105, 'reg_lambda': 3.7020432548362865}\n",
            "{'bagging_temperature': 2.135762868544706, 'learning_rate': 0.4185281162319354, 'max_depth': 5, 'n_estimators': 147, 'reg_lambda': 3.5147466178959594}\n",
            "{'bagging_temperature': 3.3135176922942158, 'learning_rate': 0.19775129152021342, 'max_depth': 4, 'n_estimators': 291, 'reg_lambda': 3.261430065800751}\n",
            "{'bagging_temperature': 1.814982609164597, 'learning_rate': 0.17615477265599444, 'max_depth': 7, 'n_estimators': 160, 'reg_lambda': 1.9593922899921261}\n",
            "{'bagging_temperature': 4.735155855243944, 'learning_rate': 0.08646397957842805, 'max_depth': 8, 'n_estimators': 457, 'reg_lambda': 3.105336438924624}\n",
            "{'bagging_temperature': 7.171799924978309, 'learning_rate': 0.08686691568119628, 'max_depth': 7, 'n_estimators': 354, 'reg_lambda': 3.721881810542903}\n",
            "{'bagging_temperature': 6.136456591371241, 'learning_rate': 0.0653301535899813, 'max_depth': 8, 'n_estimators': 161, 'reg_lambda': 3.1726644060519753}\n",
            "{'bagging_temperature': 2.3285910219039274, 'learning_rate': 0.1979617793790756, 'max_depth': 5, 'n_estimators': 213, 'reg_lambda': 2.638025303846346}\n",
            "100%|██████████| 20/20 [3:00:35<00:00, 541.77s/trial, best loss: 0.7922101973894297]\n",
            "It takes 180.59132450819016 minutes\n",
            "---------------Optimal Hyperparamter Set-------------------\n",
            "{'bagging_temperature': 0.7665886327736982, 'learning_rate': 0.1077957616344895, 'max_depth': 7, 'n_estimators': 345, 'reg_lambda': 1.6896137369937578}\n",
            "---------------Optimization History-------------------\n"
          ]
        },
        {
          "data": {
            "image/png": "[encoded data removed]",
            "text/plain": [
              "<Figure size 1200x600 with 1 Axes>"
            ]
          },
          "metadata": {},
          "output_type": "display_data"
        }
      ],
      "source": [
        "##Code for using hyperopt for hysperparameter search to optimize KL divergence is taken from\n",
        "##https://www.kaggle.com/rendyk/bayesian-optimization-bayes-opt-or-fmin#hyperopt\n",
        "##https://districtdatalabs.silvrback.com/parameter-tuning-with-hyperopt\n",
        "\n",
        "## Define the hyperparamterparamter space\n",
        "catb_param_space = {'max_depth': hp.choice('depth', range(3,9)),\n",
        "                    'learning_rate': hp.uniform('learning_rate',0.05,0.5),\n",
        "                    'n_estimators': hp.choice('n_estimators', range(100,500)),\n",
        "                    'bagging_temperature': hp.uniform('bagging_temperature',0,10),\n",
        "                    'reg_lambda': hp.uniform('reg_lambda',1,4)}\n",
        "\n",
        "best = 0\n",
        "##The function to be optimized by hyperopt.fmin(), i.e. output of this function is mean KL_div (averaged over k-fold CV)\n",
        "##which is being optimized by hyprOpt.fmin().\n",
        "def cat_func(params):\n",
        "    global best\n",
        "    print(params)\n",
        "\n",
        "    ##Compute the mean KL div score for kfold cross validation\n",
        "    score = cross_validation(params, 'catboost', train, FEATURES, vote_cols, weights_total_vote, 5, random_seed)\n",
        "\n",
        "    ##For keeping track of optimal KL div, print the score everytime a better value is found\n",
        "    if score < best:\n",
        "        best = score\n",
        "        print ('new best:', best)\n",
        "\n",
        "    ##returning -ve of score because hyperopt.fmin() minimizes a function\n",
        "    return {'loss': score, 'status': STATUS_OK}\n",
        "\n",
        "##Start the timer for hyperparamter optimization\n",
        "start = time.time()\n",
        "##Max number of evaluations for hyperopt.fmin()\n",
        "max_iterations = 20\n",
        "##Find the optimal hyperparamter set. Also storing the optimization history\n",
        "catb_param_space_indices, catb_trials = opt_hyperparameter(catb_param_space,cat_func,max_iterations)\n",
        "##Obtain the hyperparamter values in the hyperparamter space defined by catb_param_space_indices\n",
        "catb_best_hp = space_eval(catb_param_space,catb_param_space_indices)\n",
        "\n",
        "print('It takes %s minutes' % ((time.time() - start)/60))\n",
        "print('---------------Optimal Hyperparamter Set-------------------')\n",
        "print(catb_best_hp)\n",
        "print('---------------Optimization History-------------------')\n",
        "optimization_history(catb_trials)"
      ]
    },
    {
      "cell_type": "code",
      "execution_count": null,
      "metadata": {
        "id": "-Wxjn677tkvG"
      },
      "outputs": [],
      "source": [
        "# cat_best_hp = {'bagging_temperature': 0.7665886327736982, 'learning_rate': 0.1077957616344895, 'max_depth': 7, 'n_estimators': 345, 'reg_lambda': 1.6896137369937578}"
      ]
    }
  ],
  "metadata": {
    "accelerator": "GPU",
    "colab": {
      "collapsed_sections": [
        "pUCJw7ORjvNX",
        "7znzMrhX-_wW",
        "C3uIYTgY8L38",
        "VoShSYyEUNLb"
      ],
      "gpuType": "V100",
      "machine_shape": "hm",
      "provenance": []
    },
    "kernelspec": {
      "display_name": "Python 3",
      "name": "python3"
    },
    "language_info": {
      "name": "python"
    }
  },
  "nbformat": 4,
  "nbformat_minor": 0
}
